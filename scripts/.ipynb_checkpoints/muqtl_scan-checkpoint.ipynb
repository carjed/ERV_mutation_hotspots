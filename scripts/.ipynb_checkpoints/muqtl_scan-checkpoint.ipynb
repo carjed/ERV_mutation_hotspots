{
 "cells": [
  {
   "cell_type": "markdown",
   "metadata": {},
   "source": [
    "## Load libraries"
   ]
  },
  {
   "cell_type": "code",
   "execution_count": 350,
   "metadata": {
    "collapsed": true
   },
   "outputs": [],
   "source": [
    "from __future__ import print_function\n",
    "import os\n",
    "import sys\n",
    "import argparse\n",
    "\n",
    "import textwrap\n",
    "import itertools\n",
    "import timeit\n",
    "import collections\n",
    "import re\n",
    "import pickle\n",
    "import math\n",
    "\n",
    "import multiprocessing\n",
    "from joblib import Parallel, delayed\n",
    "\n",
    "from scipy.stats import chi2_contingency\n",
    "import numpy as np\n",
    "import pandas as pd\n",
    "import cyvcf2 as vcf\n",
    "from cyvcf2 import VCF\n",
    "from pyfaidx import Fasta\n",
    "from Bio.Seq import Seq\n",
    "from Bio.Alphabet import IUPAC\n",
    "import nimfa\n",
    "\n",
    "%matplotlib inline\n",
    "import matplotlib.pyplot as plt\n",
    "import plotly.plotly as py\n",
    "\n",
    "# from util import *"
   ]
  },
  {
   "cell_type": "markdown",
   "metadata": {},
   "source": [
    "## Functions"
   ]
  },
  {
   "cell_type": "markdown",
   "metadata": {},
   "source": [
    "### General functions"
   ]
  },
  {
   "cell_type": "code",
   "execution_count": 352,
   "metadata": {
    "collapsed": true
   },
   "outputs": [],
   "source": [
    "def eprint(*args, **kwargs):\n",
    "    print(*args, file=sys.stderr, **kwargs)"
   ]
  },
  {
   "cell_type": "code",
   "execution_count": 353,
   "metadata": {
    "collapsed": true
   },
   "outputs": [],
   "source": [
    "def restricted_float(x):\n",
    "    x = float(x)\n",
    "    if x < 1.0:\n",
    "        raise argparse.ArgumentTypeError(\"%r must be greater than 1\"%(x,))\n",
    "    return x"
   ]
  },
  {
   "cell_type": "code",
   "execution_count": 354,
   "metadata": {
    "collapsed": true
   },
   "outputs": [],
   "source": [
    "# from https://stackoverflow.com/questions/4529815/saving-an-object-data-persistence\n",
    "\n",
    "def save_object(obj, filename):\n",
    "    with open(filename, 'wb') as output:\n",
    "        pickle.dump(obj, output, pickle.HIGHEST_PROTOCOL)"
   ]
  },
  {
   "cell_type": "code",
   "execution_count": 355,
   "metadata": {
    "collapsed": true
   },
   "outputs": [],
   "source": [
    "# from https://stackoverflow.com/questions/13082698/rounding-down-integers-to-nearest-multiple\n",
    "\n",
    "def round_down(num, divisor):\n",
    "    return num - (num%divisor)"
   ]
  },
  {
   "cell_type": "markdown",
   "metadata": {},
   "source": [
    "### Subtype parsing functions"
   ]
  },
  {
   "cell_type": "code",
   "execution_count": 356,
   "metadata": {
    "collapsed": true
   },
   "outputs": [],
   "source": [
    "def getCategory(mu_type):\n",
    "    if re.match(\"^[ACGT]*$\", mu_type):\n",
    "        if (mu_type == \"AC\" or mu_type == \"TG\"):\n",
    "            category = \"A_C\"\n",
    "        if (mu_type == \"AG\" or mu_type == \"TC\"):\n",
    "            category = \"A_G\"\n",
    "        if (mu_type == \"AT\" or mu_type == \"TA\"):\n",
    "            category = \"A_T\"\n",
    "        if (mu_type == \"CA\" or mu_type == \"GT\"):\n",
    "            category = \"C_A\"\n",
    "        if (mu_type == \"CG\" or mu_type == \"GC\"):\n",
    "            category = \"C_G\"\n",
    "        if (mu_type == \"CT\" or mu_type == \"GA\"):\n",
    "            category = \"C_T\"\n",
    "    else:\n",
    "        category = \"unknown\"\n",
    "    return category"
   ]
  },
  {
   "cell_type": "code",
   "execution_count": 357,
   "metadata": {
    "collapsed": true
   },
   "outputs": [],
   "source": [
    "def getMotif(pos, sequence):\n",
    "    motif = Seq(sequence, IUPAC.unambiguous_dna)\n",
    "    altmotif = motif.reverse_complement()\n",
    "    central_base = (len(motif)-1)//2\n",
    "\n",
    "    m1 = motif[central_base]\n",
    "    m2 = altmotif[central_base]\n",
    "\n",
    "    if m1 < m2:\n",
    "        motif_a = motif\n",
    "    else:\n",
    "        motif_a = altmotif\n",
    "\n",
    "    return motif_a"
   ]
  },
  {
   "cell_type": "code",
   "execution_count": 358,
   "metadata": {
    "collapsed": true
   },
   "outputs": [],
   "source": [
    "def indexSubtypes(motiflength):\n",
    "    categories = [\"A_C\", \"A_G\", \"A_T\", \"C_G\", \"C_T\", \"C_A\"]\n",
    "    bases = [\"A\", \"C\", \"G\", \"T\"]\n",
    "    flank = (motiflength-1)//2\n",
    "\n",
    "    if motiflength > 1:\n",
    "        kmers = itertools.product(bases, repeat=motiflength-1)\n",
    "\n",
    "        subtypes_list = []\n",
    "\n",
    "        for kmer in kmers:\n",
    "            kmerstr = ''.join(kmer)\n",
    "\n",
    "            for category in categories:\n",
    "                ref = category[0]\n",
    "\n",
    "                subtype = category + \".\" \\\n",
    "                    + kmerstr[0:flank] + ref + kmerstr[flank:(motiflength-1)]\n",
    "\n",
    "                subtypes_list.append(subtype)\n",
    "    else:\n",
    "        ext = [\".A\", \".C\"]\n",
    "        extr = list(np.repeat(ext,3))\n",
    "        subtypes_list = [m+n for m,n in zip(categories,extr)]\n",
    "\n",
    "    i = 0\n",
    "    subtypes_dict = {}\n",
    "    for subtype in sorted(subtypes_list):\n",
    "        subtypes_dict[subtype] = i\n",
    "        i += 1\n",
    "\n",
    "    return subtypes_dict"
   ]
  },
  {
   "cell_type": "markdown",
   "metadata": {},
   "source": [
    "### Window analysis functions"
   ]
  },
  {
   "cell_type": "code",
   "execution_count": 359,
   "metadata": {
    "collapsed": true
   },
   "outputs": [],
   "source": [
    "def getWindowID(chrom, pos, divisor):\n",
    "# def getWindowID(chrom, start, end):\n",
    "    pos = int(pos)\n",
    "    start = round_down(pos, divisor)\n",
    "    end = start + divisor\n",
    "    wid = str(chrom).replace(\"chr\", \"\") + \":\" + str(start) + \"-\" + str(end)\n",
    "    \n",
    "    return wid"
   ]
  },
  {
   "cell_type": "code",
   "execution_count": 360,
   "metadata": {
    "collapsed": true
   },
   "outputs": [],
   "source": [
    "def indexWindows(windowfile, width):\n",
    "    \n",
    "    window_dict = {}\n",
    "\n",
    "    with open(windowfile) as f:\n",
    "        i = 0\n",
    "        for line in f:\n",
    "            tok = line.split()\n",
    "#             idx = getWindowID(tok[0], int(tok[1]), int(tok[2])-int(tok[1]))\n",
    "            idx = getWindowID(tok[0], int(tok[1]), width)\n",
    "#             print(idx)\n",
    "#             idx = tok[0] + \":\" + str(tok[1]) + \"-\" + str(tok[2])\n",
    "            window_dict[idx] = i\n",
    "            i += 1\n",
    "            \n",
    "    return window_dict"
   ]
  },
  {
   "cell_type": "code",
   "execution_count": 361,
   "metadata": {
    "collapsed": true
   },
   "outputs": [],
   "source": [
    "def buildSpectraMatrixR(inputvcf, chr, start, end, fastafile, length, window_dict, subtypes_dict, par):\n",
    "    \n",
    "    fasta_reader = Fasta(fastafile, read_ahead=1000000)\n",
    "\n",
    "    vcf_reader = VCF(inputvcf,\n",
    "        mode='rb', gts012=True, lazy=True)\n",
    "\n",
    "    nbp = (length-1)//2\n",
    "\n",
    "    M = np.zeros((len(window_dict), len(subtypes_dict)))\n",
    "    numsites_keep = 0\n",
    "    numsites_skip = 0\n",
    "    chrseq = '0'\n",
    "\n",
    "    batchit = 0\n",
    "    sample_batch = []\n",
    "    subtype_batch = []\n",
    "    maxac = 1\n",
    "\n",
    "    query = str(chr) + \":\" + str(start) + \"-\" + str(end)\n",
    "    for record in vcf_reader(query):\n",
    "\n",
    "        if (record.is_snp) and (len(record.ALT)==1) and (record.FILTER is None):\n",
    "        \n",
    "            acval = int(record.INFO.get('AC'))\n",
    "        \n",
    "            if (acval<=maxac) or (maxac==0):\n",
    "\n",
    "                # check and update chromosome sequence\n",
    "                if record.CHROM != chrseq:\n",
    "                    sequence = fasta_reader[record.CHROM]\n",
    "                    chrseq = record.CHROM\n",
    "\n",
    "                if nbp > 0:\n",
    "                    lseq = sequence[record.POS-(nbp+1):record.POS+nbp].seq\n",
    "                else:\n",
    "                    lseq = sequence[record.POS-1].seq\n",
    "\n",
    "                mu_type = record.REF + str(record.ALT[0])\n",
    "                category = getCategory(mu_type)\n",
    "                motif_a = getMotif(record.POS, lseq)\n",
    "                subtype = str(category + \".\" + motif_a)\n",
    "\n",
    "                if subtype in subtypes_dict:\n",
    "                    st = subtypes_dict[subtype]\n",
    "                    rowid = getWindowID(record.CHROM, record.POS, 1000000)\n",
    "                    rownum = window_dict[rowid]\n",
    "                    M[rownum,st] += 1\n",
    "    #                     eprint(record.ID, record.CHROM, record.POS, record.REF, record.ALT[0],\n",
    "    #                         acval, record.FILTER, subtype)\n",
    "                    numsites_keep += 1\n",
    "\n",
    "                else:\n",
    "                    numsites_skip += 1\n",
    "\n",
    "#                 if (numsites_keep%10000==0):\n",
    "#                     print(\"Processed\", numsites_keep, \"sites\",\n",
    "#                         \"(Skipped\", numsites_skip, \"sites)\")\n",
    "            else:\n",
    "                numsites_skip += 1\n",
    "\n",
    "    print(query, \"complete. (\", numsites_keep, \"sites kept;\", numsites_skip, \"skipped)\")\n",
    "#     print(numsites_skip, \"sites skipped\")\n",
    "\n",
    "    vcf_reader.close()\n",
    "    out = collections.namedtuple('Out', ['M', 'samples'])(M, samples)\n",
    "\n",
    "    if par:\n",
    "        return M\n",
    "    else:\n",
    "        return out"
   ]
  },
  {
   "cell_type": "code",
   "execution_count": 362,
   "metadata": {
    "collapsed": true
   },
   "outputs": [],
   "source": [
    "def buildSpectraMatrixWrapper(idx, fasta, length, window_dict, subtypes_dict, par):\n",
    "    params = re.split(\":|-\", idx)\n",
    "    \n",
    "    input = \"/mnt/norbert/projects/ERV_mutation_hotspots/data/vcfs/chr\" + params[0] + \".filtered.sites.modified.ma.aa.singletons.vcf.gz\"\n",
    "    \n",
    "    M_sub = buildSpectraMatrixR(input, params[0], params[1], params[2], fasta, length, window_dict, subtypes_dict, par)\n",
    "    \n",
    "    return M_sub"
   ]
  },
  {
   "cell_type": "code",
   "execution_count": 363,
   "metadata": {
    "collapsed": true
   },
   "outputs": [],
   "source": [
    "# from https://stackoverflow.com/questions/2970520/string-count-with-overlapping-occurrences\n",
    "\n",
    "def occurrences(string, sub):\n",
    "    count = start = 0\n",
    "    while True:\n",
    "        start = string.find(sub, start) + 1\n",
    "        if start > 0:\n",
    "            count+=1\n",
    "        else:\n",
    "            return count"
   ]
  },
  {
   "cell_type": "code",
   "execution_count": 377,
   "metadata": {
    "collapsed": true
   },
   "outputs": [],
   "source": [
    "def countMotifs(idx, subtypes):\n",
    "    params = re.split(\":|-\", idx)\n",
    "    chrstr = str(fasta_reader[params[0]][int(params[1]):int(params[2])])\n",
    "    \n",
    "    subcounts = np.array([0]*len(subtypes))\n",
    "    i = 0\n",
    "    for subtype in subtypes:\n",
    "        motif = re.sub(\".*\\.\", \"\", subtype)\n",
    "        \n",
    "#         motif = Seq(motif, IUPAC.unambiguous_dna)\n",
    "        altmotif = str(Seq(motif, IUPAC.unambiguous_dna).reverse_complement())\n",
    "    \n",
    "        mc1 = occurrences(chrstr, motif)\n",
    "        mc2 = occurrences(chrstr, altmotif)\n",
    "#         print(mc1, mc2)\n",
    "        subcounts[i] = mc1 + mc2\n",
    "        i += 1\n",
    "    return subcounts"
   ]
  },
  {
   "cell_type": "markdown",
   "metadata": {},
   "source": [
    "### Per-sample analysis functions"
   ]
  },
  {
   "cell_type": "code",
   "execution_count": 365,
   "metadata": {
    "collapsed": true
   },
   "outputs": [],
   "source": [
    "def getSamplesVCF(inputvcf):\n",
    "\n",
    "    vcf_reader = VCF(inputvcf,\n",
    "        mode='rb', gts012=True, lazy=True)\n",
    "\n",
    "    samples = vcf_reader.samples\n",
    "\n",
    "    vcf_reader.close()\n",
    "    return samples"
   ]
  },
  {
   "cell_type": "code",
   "execution_count": 366,
   "metadata": {
    "collapsed": true
   },
   "outputs": [],
   "source": [
    "def buildSpectraMatrix(inputvcf, chr, start, end, fastafile, length, subtypes_dict, par):\n",
    "#     eprint(\"Initializing reference genome...\") if args.verbose else None\n",
    "    fasta_reader = Fasta(fastafile, read_ahead=1000000)\n",
    "    # record_dict = SeqIO.to_dict(SeqIO.parse(args.fastafile, \"fasta\"))\n",
    "\n",
    "    vcf_reader = VCF(inputvcf,\n",
    "        mode='rb', gts012=True, lazy=True)\n",
    "\n",
    "    nbp = (length-1)//2\n",
    "\n",
    "    samples = vcf_reader.samples\n",
    "\n",
    "    samples_dict = {}\n",
    "    for i in range(len(samples)):\n",
    "        samples_dict[samples[i]] = i\n",
    "\n",
    "    M = np.zeros((len(samples), len(subtypes_dict)))\n",
    "    numsites_keep = 0\n",
    "    numsites_skip = 0\n",
    "    chrseq = '0'\n",
    "\n",
    "    batchit = 0\n",
    "    sample_batch = []\n",
    "    subtype_batch = []\n",
    "    maxac = 1\n",
    "\n",
    "    query = str(chr) + \":\" + str(start) + \"-\" + str(end)\n",
    "    for record in vcf_reader(query):\n",
    "\n",
    "        if (record.is_snp) and (len(record.ALT)==1) and (record.FILTER is None):\n",
    "        \n",
    "            acval = int(record.INFO.get('AC'))\n",
    "#             eprint(record.POS, acval)\n",
    "        \n",
    "            if (acval<=maxac) or (maxac==0):\n",
    "\n",
    "                # check and update chromosome sequence\n",
    "                if record.CHROM != chrseq:\n",
    "                    sequence = fasta_reader[record.CHROM]\n",
    "                    chrseq = record.CHROM\n",
    "\n",
    "                if nbp > 0:\n",
    "                    lseq = sequence[record.POS-(nbp+1):record.POS+nbp].seq\n",
    "                else:\n",
    "                    lseq = sequence[record.POS-1].seq\n",
    "\n",
    "                mu_type = record.REF + str(record.ALT[0])\n",
    "                category = getCategory(mu_type)\n",
    "                motif_a = getMotif(record.POS, lseq)\n",
    "                subtype = str(category + \".\" + motif_a)\n",
    "\n",
    "                if subtype in subtypes_dict:\n",
    "                    st = subtypes_dict[subtype]\n",
    "\n",
    "                    M[:,st] = M[:,st]+record.gt_types\n",
    "    #                     eprint(record.ID, record.CHROM, record.POS, record.REF, record.ALT[0],\n",
    "    #                         acval, record.FILTER, subtype)\n",
    "                    numsites_keep += 1\n",
    "\n",
    "                else:\n",
    "                    numsites_skip += 1\n",
    "\n",
    "                if (numsites_keep%10000==0):\n",
    "                    print(\"Processed\", numsites_keep, \"sites\",\n",
    "                        \"(Skipped\", numsites_skip, \"sites)\")\n",
    "            else:\n",
    "                numsites_skip += 1\n",
    "\n",
    "    print(query, \"complete. (\", numsites_keep, \"sites kept;\", numsites_skip, \"skipped)\")\n",
    "#     print(numsites_skip, \"sites skipped\")\n",
    "\n",
    "    vcf_reader.close()\n",
    "    out = collections.namedtuple('Out', ['M', 'samples'])(M, samples)\n",
    "\n",
    "    if par:\n",
    "        return M\n",
    "    else:\n",
    "        return out"
   ]
  },
  {
   "cell_type": "code",
   "execution_count": 367,
   "metadata": {
    "collapsed": true
   },
   "outputs": [],
   "source": [
    "def scanVars(inputvcf, c, chr, start, end, minac, M, target):\n",
    "\n",
    "    vcf_reader = VCF(inputvcf, mode='r', gts012=True, lazy=True)\n",
    "\n",
    "#     output = \"/mnt/norbert/projects/ERV_mutation_hotspots/data/topmed_chunks/topmed.65k.chr2.\"+str(start)+\"-\"+str(end)+\".test.txt\"\n",
    "    \n",
    "    query = str(chr) + \":\" + str(start) + \"-\" + str(end)\n",
    "    eprint(\"running query: \", query)\n",
    "\n",
    "    rmse_hash = {}\n",
    "\n",
    "    n_ind = len(c)\n",
    "    \n",
    "    for record in vcf_reader(query):\n",
    "\n",
    "        # eprint(\"SNP check: PASS\")\n",
    "        acval = record.INFO.get('AC')\n",
    "\n",
    "#             if ((acval>=minac) and record.FILTER is None):\n",
    "        if (record.FILTER is None):\n",
    "#             if ((sum(np.logical_and(c,gts))>=minac) and (record.FILTER is None)):\n",
    "            gts = record.gt_types\n",
    "            subac = sum(gts[c])\n",
    "#             eprint(gts[c])\n",
    "#             eprint(\"sum_gts[c]\", subac)\n",
    "#             eprint(\"sum_gts\", sum(gts))\n",
    "            if (subac >= minac) and (subac < n_ind/2):\n",
    "#                 M_ref = M[np.logical_and(c, gts==0),:].sum(axis=0)\n",
    "                M_het = M[np.logical_and(c, gts!=0),:].sum(axis=0)\n",
    "\n",
    "#                 M_ref_p = M_ref/sum(M_ref)\n",
    "                M_het_p = M_het/sum(M_het)\n",
    "\n",
    "                M_err = M_het_p - target\n",
    "                M_rmse = np.sqrt(np.sum(np.square(M_err))/len(M_err))\n",
    "\n",
    "                if sum(M_het)>0:\n",
    "                    rmse_hash[record.POS] = [M_rmse, subac]\n",
    "#                     eprint(rmse_hash[record.POS])\n",
    "    #                     ac_list = sum(gts[c])\n",
    "#                     table = np.array([M_ref, M_het])\n",
    "\n",
    "#                 if (not any(table.sum(axis=1)==0) and all(M_ref>5) and all(M_het>5) and (sum(M_het)>=minac)):\n",
    "#                     result = chi2_contingency(table)\n",
    "\n",
    "#                     line = [str(record.ID), record.CHROM, str(record.POS), record.REF, record.ALT[0], str(sum(M_het)),\n",
    "#                           str(result[0]), str(result[1])]\n",
    "\n",
    "#                     f.write('\\t'.join(line) + '\\n')\n",
    "#                     eprint('\\t'.join(line) + '\\n')\n",
    "\n",
    "    return rmse_hash"
   ]
  },
  {
   "cell_type": "code",
   "execution_count": 368,
   "metadata": {
    "collapsed": true
   },
   "outputs": [],
   "source": [
    "def permRMSE(M, target, c, nsim, nind, ac_list):\n",
    "    import random\n",
    "    rmse_list = [None] * nsim\n",
    "    \n",
    "    M_sub = M[c,:]\n",
    "    \n",
    "    for i in range(0,nsim):\n",
    "#         nind2 = np.random.randint(5000, size=1)\n",
    "        nind2 = random.choice(ac_list)\n",
    "#         nind2 = random.randrange(30,5000)\n",
    "        idx = np.random.randint(M_sub.shape[0], size=nind2)\n",
    "        M_sim = M_sub[idx,:].sum(axis=0)\n",
    "\n",
    "        M_sim_p = M_sim/sum(M_sim)\n",
    "        M_err = M_sim_p - np.array(target)\n",
    "        M_rmse = np.sqrt(np.sum(np.square(M_err))/len(M_err))\n",
    "        \n",
    "        rmse_list[i] = M_rmse\n",
    "\n",
    "    return(rmse_list)"
   ]
  },
  {
   "cell_type": "code",
   "execution_count": 536,
   "metadata": {
    "collapsed": true
   },
   "outputs": [],
   "source": [
    "def createPed(path, samples, phenotype):\n",
    "\n",
    "    with open(path, 'w') as f:\n",
    "        header = [\"#FAM_ID\", \"IND_ID\", \"FAT_ID\", \"MOT_ID\", \"SEX\", \"SIG\"]\n",
    "        f.write('\\t'.join(header) + '\\n')\n",
    "\n",
    "        for i in range(0,len(samples)):\n",
    "            line = [samples[i], samples[i], \"0\", \"0\", \"0\", str(phenotype[i])]\n",
    "            f.write('\\t'.join(line) + '\\n')"
   ]
  },
  {
   "cell_type": "markdown",
   "metadata": {},
   "source": [
    "-------------------------------------------------------------\n",
    "## Build per-window mutation spectra matrix\n",
    "-------------------------------------------------------------"
   ]
  },
  {
   "cell_type": "code",
   "execution_count": 369,
   "metadata": {
    "collapsed": true
   },
   "outputs": [],
   "source": [
    "# par=False\n",
    "args = []\n",
    "\n",
    "# fasta = \"/mnt/norbert/projects/ERV_mutation_hotspots/data/hs38DH.fa\"\n",
    "fasta = \"/mnt/norbert/projects/ERV_mutation_hotspots/data/human_g1k_v37.fasta\"\n",
    "\n",
    "subtypes_dict = indexSubtypes(3)"
   ]
  },
  {
   "cell_type": "code",
   "execution_count": 370,
   "metadata": {
    "collapsed": true
   },
   "outputs": [],
   "source": [
    "window_dict = indexWindows(\"/mnt/norbert/projects/ERV_mutation_hotspots/data/hg19_windows/genome.1000kb.sorted.bed\", 1000000)"
   ]
  },
  {
   "cell_type": "code",
   "execution_count": 342,
   "metadata": {
    "collapsed": true
   },
   "outputs": [],
   "source": [
    "# window_dict.keys()"
   ]
  },
  {
   "cell_type": "code",
   "execution_count": 371,
   "metadata": {
    "collapsed": true
   },
   "outputs": [],
   "source": [
    "process_window_dict = indexWindows(\"/mnt/norbert/projects/ERV_mutation_hotspots/data/hg19_windows/genome.10000kb.sorted.bed\", 10000000)"
   ]
  },
  {
   "cell_type": "code",
   "execution_count": 343,
   "metadata": {
    "collapsed": true
   },
   "outputs": [],
   "source": [
    "# process_window_dict.keys()"
   ]
  },
  {
   "cell_type": "code",
   "execution_count": 344,
   "metadata": {
    "collapsed": true
   },
   "outputs": [],
   "source": [
    "# dataR=buildSpectraMatrixR(input, chr, 36000000, 37000000, fasta, 3, window_dict, subtypes_dict, par)"
   ]
  },
  {
   "cell_type": "code",
   "execution_count": 372,
   "metadata": {
    "collapsed": true
   },
   "outputs": [
    {
     "name": "stdout",
     "output_type": "stream",
     "text": [
      "1:40000000-50000000 complete. ( 135105 sites kept; 0 skipped)\n",
      "1:20000000-30000000 complete. ( 136705 sites kept; 0 skipped)\n",
      "1:60000000-70000000 complete. ( 135347 sites kept; 0 skipped)\n",
      "1:70000000-80000000 complete. ( 134583 sites kept; 0 skipped)\n",
      "1:10000000-20000000 complete. ( 135775 sites kept; 0 skipped)\n",
      "1:30000000-40000000 complete. ( 139946 sites kept; 0 skipped)\n",
      "1:130000000-140000000 complete. ( 0 sites kept; 0 skipped)\n",
      "1:50000000-60000000 complete. ( 137538 sites kept; 0 skipped)\n",
      "1:0-10000000 complete. ( 149504 sites kept; 0 skipped)\n",
      "1:120000000-130000000 complete. ( 16696 sites kept; 0 skipped)\n",
      "1:140000000-150000000 complete. ( 58156 sites kept; 0 skipped)\n",
      "1:90000000-100000000 complete. ( 134429 sites kept; 0 skipped)\n",
      "1:80000000-90000000 complete. ( 134084 sites kept; 0 skipped)\n",
      "1:100000000-110000000 complete. ( 135505 sites kept; 0 skipped)\n",
      "1:110000000-120000000 complete. ( 135301 sites kept; 0 skipped)\n",
      "1:160000000-170000000 complete. ( 136106 sites kept; 0 skipped)\n",
      "1:150000000-160000000 complete. ( 139922 sites kept; 0 skipped)\n",
      "1:170000000-180000000 complete. ( 134471 sites kept; 0 skipped)\n",
      "1:180000000-190000000 complete. ( 136075 sites kept; 0 skipped)\n",
      "1:200000000-210000000 complete. ( 129936 sites kept; 0 skipped)\n",
      "1:220000000-230000000 complete. ( 135158 sites kept; 0 skipped)\n",
      "1:190000000-200000000 complete. ( 138183 sites kept; 0 skipped)\n",
      "1:240000000-250000000 complete. ( 126419 sites kept; 0 skipped)\n",
      "1:210000000-220000000 complete. ( 135271 sites kept; 0 skipped)\n",
      "1:230000000-240000000 complete. ( 138318 sites kept; 0 skipped)\n",
      "10:0-10000000 complete. ( 154069 sites kept; 0 skipped)\n",
      "10:10000000-20000000 complete. ( 150323 sites kept; 0 skipped)\n",
      "10:40000000-50000000 complete. ( 86690 sites kept; 0 skipped)\n",
      "10:50000000-60000000 complete. ( 129457 sites kept; 0 skipped)\n",
      "10:30000000-40000000 complete. ( 138904 sites kept; 0 skipped)\n",
      "10:60000000-70000000 complete. ( 137810 sites kept; 0 skipped)\n",
      "10:20000000-30000000 complete. ( 143807 sites kept; 0 skipped)\n",
      "10:70000000-80000000 complete. ( 138179 sites kept; 0 skipped)\n",
      "10:80000000-90000000 complete. ( 139560 sites kept; 0 skipped)\n",
      "10:90000000-100000000 complete. ( 135107 sites kept; 0 skipped)\n",
      "10:100000000-110000000 complete. ( 137282 sites kept; 0 skipped)\n",
      "10:130000000-140000000 complete. ( 87016 sites kept; 0 skipped)\n",
      "10:110000000-120000000 complete. ( 141232 sites kept; 0 skipped)\n",
      "10:120000000-130000000 complete. ( 140662 sites kept; 0 skipped)\n",
      "11:10000000-20000000 complete. ( 138970 sites kept; 0 skipped)\n",
      "11:0-10000000 complete. ( 151881 sites kept; 0 skipped)\n",
      "11:20000000-30000000 complete. ( 142278 sites kept; 0 skipped)\n",
      "11:50000000-60000000 complete. ( 114883 sites kept; 0 skipped)\n",
      "11:30000000-40000000 complete. ( 137756 sites kept; 0 skipped)\n",
      "11:40000000-50000000 complete. ( 150824 sites kept; 0 skipped)\n",
      "11:70000000-80000000 complete. ( 142664 sites kept; 0 skipped)\n",
      "11:60000000-70000000 complete. ( 149365 sites kept; 0 skipped)\n",
      "11:80000000-90000000 complete. ( 140175 sites kept; 0 skipped)\n",
      "11:90000000-100000000 complete. ( 139489 sites kept; 0 skipped)\n",
      "11:130000000-140000000 complete. ( 76369 sites kept; 0 skipped)\n",
      "11:100000000-110000000 complete. ( 140324 sites kept; 0 skipped)\n",
      "11:110000000-120000000 complete. ( 139766 sites kept; 0 skipped)\n",
      "11:120000000-130000000 complete. ( 139116 sites kept; 0 skipped)\n",
      "12:30000000-40000000 complete. ( 118548 sites kept; 0 skipped)\n",
      "12:0-10000000 complete. ( 139192 sites kept; 0 skipped)\n",
      "12:20000000-30000000 complete. ( 136496 sites kept; 0 skipped)\n",
      "12:10000000-20000000 complete. ( 141747 sites kept; 0 skipped)\n",
      "12:40000000-50000000 complete. ( 135521 sites kept; 0 skipped)\n",
      "12:50000000-60000000 complete. ( 136032 sites kept; 0 skipped)\n",
      "12:70000000-80000000 complete. ( 134657 sites kept; 0 skipped)\n",
      "13:0-10000000 complete. ( 0 sites kept; 0 skipped)\n",
      "12:60000000-70000000 complete. ( 135501 sites kept; 0 skipped)\n",
      "13:10000000-20000000 complete. ( 15321 sites kept; 0 skipped)\n",
      "12:130000000-140000000 complete. ( 57782 sites kept; 0 skipped)\n",
      "12:80000000-90000000 complete. ( 137743 sites kept; 0 skipped)\n",
      "12:90000000-100000000 complete. ( 134429 sites kept; 0 skipped)\n",
      "12:100000000-110000000 complete. ( 134754 sites kept; 0 skipped)\n",
      "12:110000000-120000000 complete. ( 140214 sites kept; 0 skipped)\n",
      "12:120000000-130000000 complete. ( 147696 sites kept; 0 skipped)\n",
      "13:20000000-30000000 complete. ( 143493 sites kept; 0 skipped)\n",
      "13:30000000-40000000 complete. ( 136840 sites kept; 0 skipped)\n",
      "13:40000000-50000000 complete. ( 134877 sites kept; 0 skipped)\n",
      "14:0-10000000 complete. ( 0 sites kept; 0 skipped)\n",
      "14:10000000-20000000 complete. ( 11225 sites kept; 0 skipped)\n",
      "13:50000000-60000000 complete. ( 136142 sites kept; 0 skipped)\n",
      "13:60000000-70000000 complete. ( 142133 sites kept; 0 skipped)\n",
      "13:70000000-80000000 complete. ( 140244 sites kept; 0 skipped)\n",
      "13:80000000-90000000 complete. ( 138563 sites kept; 0 skipped)\n",
      "13:110000000-120000000 complete. ( 76115 sites kept; 0 skipped)\n",
      "13:90000000-100000000 complete. ( 140596 sites kept; 0 skipped)\n",
      "13:100000000-110000000 complete. ( 144038 sites kept; 0 skipped)\n",
      "14:20000000-30000000 complete. ( 141548 sites kept; 0 skipped)\n",
      "14:30000000-40000000 complete. ( 136759 sites kept; 0 skipped)\n",
      "15:0-10000000 complete. ( 0 sites kept; 0 skipped)\n",
      "15:10000000-20000000 complete. ( 0 sites kept; 0 skipped)\n",
      "14:40000000-50000000 complete. ( 143979 sites kept; 0 skipped)\n",
      "14:60000000-70000000 complete. ( 137206 sites kept; 0 skipped)\n",
      "14:50000000-60000000 complete. ( 140144 sites kept; 0 skipped)\n",
      "14:70000000-80000000 complete. ( 139226 sites kept; 0 skipped)\n",
      "14:80000000-90000000 complete. ( 141717 sites kept; 0 skipped)\n",
      "14:90000000-100000000 complete. ( 143838 sites kept; 0 skipped)\n",
      "14:100000000-110000000 complete. ( 114873 sites kept; 0 skipped)\n",
      "15:20000000-30000000 complete. ( 119373 sites kept; 0 skipped)\n",
      "15:30000000-40000000 complete. ( 126535 sites kept; 0 skipped)\n",
      "15:40000000-50000000 complete. ( 138067 sites kept; 0 skipped)\n",
      "15:50000000-60000000 complete. ( 149807 sites kept; 0 skipped)\n",
      "15:100000000-110000000 complete. ( 38435 sites kept; 0 skipped)\n",
      "15:60000000-70000000 complete. ( 142196 sites kept; 0 skipped)\n",
      "15:70000000-80000000 complete. ( 135829 sites kept; 0 skipped)\n",
      "16:40000000-50000000 complete. ( 51371 sites kept; 0 skipped)\n",
      "15:80000000-90000000 complete. ( 137755 sites kept; 0 skipped)\n",
      "16:30000000-40000000 complete. ( 77474 sites kept; 0 skipped)\n",
      "15:90000000-100000000 complete. ( 150640 sites kept; 0 skipped)\n",
      "16:90000000-100000000 complete. ( 3586 sites kept; 0 skipped)\n",
      "16:20000000-30000000 complete. ( 133621 sites kept; 0 skipped)\n",
      "16:10000000-20000000 complete. ( 150465 sites kept; 0 skipped)\n",
      "16:50000000-60000000 complete. ( 142734 sites kept; 0 skipped)\n",
      "16:0-10000000 complete. ( 206799 sites kept; 0 skipped)\n",
      "16:60000000-70000000 complete. ( 139956 sites kept; 0 skipped)\n",
      "16:70000000-80000000 complete. ( 180470 sites kept; 0 skipped)\n",
      "17:20000000-30000000 complete. ( 98073 sites kept; 0 skipped)\n",
      "17:0-10000000 complete. ( 155521 sites kept; 0 skipped)\n",
      "17:10000000-20000000 complete. ( 137733 sites kept; 0 skipped)\n",
      "17:80000000-90000000 complete. ( 20268 sites kept; 0 skipped)\n",
      "16:80000000-90000000 complete. ( 207427 sites kept; 0 skipped)\n",
      "17:40000000-50000000 complete. ( 130830 sites kept; 0 skipped)\n",
      "17:30000000-40000000 complete. ( 137433 sites kept; 0 skipped)\n",
      "17:50000000-60000000 complete. ( 133885 sites kept; 0 skipped)\n",
      "17:60000000-70000000 complete. ( 138886 sites kept; 0 skipped)\n",
      "18:10000000-20000000 complete. ( 101025 sites kept; 0 skipped)\n",
      "17:70000000-80000000 complete. ( 159650 sites kept; 0 skipped)\n",
      "18:0-10000000 complete. ( 140731 sites kept; 0 skipped)\n",
      "18:20000000-30000000 complete. ( 134908 sites kept; 0 skipped)\n",
      "18:30000000-40000000 complete. ( 136856 sites kept; 0 skipped)\n",
      "18:40000000-50000000 complete. ( 141789 sites kept; 0 skipped)\n",
      "18:50000000-60000000 complete. ( 136910 sites kept; 0 skipped)\n",
      "18:70000000-80000000 complete. ( 120372 sites kept; 0 skipped)\n",
      "18:60000000-70000000 complete. ( 138955 sites kept; 0 skipped)\n",
      "19:20000000-30000000 complete. ( 114743 sites kept; 0 skipped)\n",
      "19:10000000-20000000 complete. ( 154806 sites kept; 0 skipped)\n",
      "19:0-10000000 complete. ( 169542 sites kept; 0 skipped)\n",
      "19:30000000-40000000 complete. ( 146066 sites kept; 0 skipped)\n",
      "19:50000000-60000000 complete. ( 141436 sites kept; 0 skipped)\n",
      "19:40000000-50000000 complete. ( 153198 sites kept; 0 skipped)\n",
      "2:0-10000000 complete. ( 149393 sites kept; 0 skipped)\n",
      "2:10000000-20000000 complete. ( 140585 sites kept; 0 skipped)\n",
      "2:20000000-30000000 complete. ( 140779 sites kept; 0 skipped)\n",
      "2:30000000-40000000 complete. ( 159561 sites kept; 0 skipped)\n",
      "2:90000000-100000000 complete. ( 76268 sites kept; 0 skipped)\n",
      "2:60000000-70000000 complete. ( 142077 sites kept; 0 skipped)\n",
      "2:40000000-50000000 complete. ( 168592 sites kept; 0 skipped)\n",
      "2:70000000-80000000 complete. ( 144213 sites kept; 0 skipped)\n",
      "2:50000000-60000000 complete. ( 160999 sites kept; 0 skipped)\n",
      "2:80000000-90000000 complete. ( 128088 sites kept; 0 skipped)\n",
      "2:100000000-110000000 complete. ( 142262 sites kept; 0 skipped)\n",
      "2:110000000-120000000 complete. ( 126764 sites kept; 0 skipped)\n",
      "2:130000000-140000000 complete. ( 134980 sites kept; 0 skipped)\n",
      "2:140000000-150000000 complete. ( 134487 sites kept; 0 skipped)\n",
      "2:120000000-130000000 complete. ( 144553 sites kept; 0 skipped)\n",
      "2:150000000-160000000 complete. ( 134805 sites kept; 0 skipped)\n",
      "2:160000000-170000000 complete. ( 134360 sites kept; 0 skipped)\n",
      "2:170000000-180000000 complete. ( 132553 sites kept; 0 skipped)\n",
      "2:240000000-250000000 complete. ( 49401 sites kept; 0 skipped)\n",
      "2:180000000-190000000 complete. ( 137307 sites kept; 0 skipped)\n",
      "2:190000000-200000000 complete. ( 133119 sites kept; 0 skipped)\n",
      "2:200000000-210000000 complete. ( 135873 sites kept; 0 skipped)\n",
      "2:220000000-230000000 complete. ( 137623 sites kept; 0 skipped)\n",
      "2:210000000-220000000 complete. ( 139115 sites kept; 0 skipped)\n",
      "2:230000000-240000000 complete. ( 146582 sites kept; 0 skipped)\n",
      "21:0-10000000 complete. ( 4401 sites kept; 0 skipped)\n",
      "20:0-10000000 complete. ( 138673 sites kept; 0 skipped)\n",
      "20:20000000-30000000 complete. ( 104866 sites kept; 0 skipped)\n",
      "20:60000000-70000000 complete. ( 49622 sites kept; 0 skipped)\n",
      "20:10000000-20000000 complete. ( 137625 sites kept; 0 skipped)\n",
      "22:0-10000000 complete. ( 0 sites kept; 0 skipped)\n",
      "20:30000000-40000000 complete. ( 138947 sites kept; 0 skipped)\n",
      "22:10000000-20000000 complete. ( 49519 sites kept; 0 skipped)\n",
      "21:10000000-20000000 complete. ( 97707 sites kept; 0 skipped)\n",
      "20:40000000-50000000 complete. ( 140828 sites kept; 0 skipped)\n",
      "20:50000000-60000000 complete. ( 147257 sites kept; 0 skipped)\n",
      "22:50000000-60000000 complete. ( 20449 sites kept; 0 skipped)\n",
      "21:40000000-50000000 complete. ( 125798 sites kept; 0 skipped)\n",
      "21:30000000-40000000 complete. ( 140602 sites kept; 0 skipped)\n",
      "21:20000000-30000000 complete. ( 147981 sites kept; 0 skipped)\n",
      "22:20000000-30000000 complete. ( 134522 sites kept; 0 skipped)\n",
      "22:30000000-40000000 complete. ( 147721 sites kept; 0 skipped)\n",
      "3:10000000-20000000 complete. ( 141780 sites kept; 0 skipped)\n",
      "22:40000000-50000000 complete. ( 161236 sites kept; 0 skipped)\n",
      "3:0-10000000 complete. ( 162494 sites kept; 0 skipped)\n",
      "3:40000000-50000000 complete. ( 138089 sites kept; 0 skipped)\n",
      "3:30000000-40000000 complete. ( 139445 sites kept; 0 skipped)\n",
      "3:20000000-30000000 complete. ( 150253 sites kept; 0 skipped)\n",
      "3:50000000-60000000 complete. ( 141543 sites kept; 0 skipped)\n",
      "3:60000000-70000000 complete. ( 153333 sites kept; 0 skipped)\n",
      "3:90000000-100000000 complete. ( 108358 sites kept; 0 skipped)\n",
      "3:70000000-80000000 complete. ( 143171 sites kept; 0 skipped)\n",
      "3:80000000-90000000 complete. ( 148004 sites kept; 0 skipped)\n",
      "3:100000000-110000000 complete. ( 139058 sites kept; 0 skipped)\n",
      "3:110000000-120000000 complete. ( 132762 sites kept; 0 skipped)\n",
      "3:120000000-130000000 complete. ( 140372 sites kept; 0 skipped)\n",
      "3:130000000-140000000 complete. ( 134070 sites kept; 0 skipped)\n",
      "3:140000000-150000000 complete. ( 134854 sites kept; 0 skipped)\n",
      "3:150000000-160000000 complete. ( 132546 sites kept; 0 skipped)\n",
      "3:160000000-170000000 complete. ( 136551 sites kept; 0 skipped)\n",
      "3:170000000-180000000 complete. ( 136514 sites kept; 0 skipped)\n",
      "3:190000000-200000000 complete. ( 113450 sites kept; 0 skipped)\n",
      "3:180000000-190000000 complete. ( 138028 sites kept; 0 skipped)\n",
      "4:0-10000000 complete. ( 175499 sites kept; 0 skipped)\n",
      "4:10000000-20000000 complete. ( 150503 sites kept; 0 skipped)\n",
      "4:20000000-30000000 complete. ( 142500 sites kept; 0 skipped)\n",
      "4:50000000-60000000 complete. ( 107493 sites kept; 0 skipped)\n",
      "4:30000000-40000000 complete. ( 144372 sites kept; 0 skipped)\n",
      "4:40000000-50000000 complete. ( 136614 sites kept; 0 skipped)\n",
      "4:60000000-70000000 complete. ( 151407 sites kept; 0 skipped)\n",
      "4:70000000-80000000 complete. ( 141747 sites kept; 0 skipped)\n",
      "4:80000000-90000000 complete. ( 131233 sites kept; 0 skipped)\n",
      "4:100000000-110000000 complete. ( 135245 sites kept; 0 skipped)\n",
      "4:90000000-100000000 complete. ( 142586 sites kept; 0 skipped)\n",
      "4:110000000-120000000 complete. ( 136282 sites kept; 0 skipped)\n",
      "4:120000000-130000000 complete. ( 132947 sites kept; 0 skipped)\n",
      "4:130000000-140000000 complete. ( 139971 sites kept; 0 skipped)\n",
      "4:190000000-200000000 complete. ( 15412 sites kept; 0 skipped)\n",
      "4:140000000-150000000 complete. ( 138825 sites kept; 0 skipped)\n",
      "4:150000000-160000000 complete. ( 135821 sites kept; 0 skipped)\n",
      "4:160000000-170000000 complete. ( 138323 sites kept; 0 skipped)\n",
      "4:170000000-180000000 complete. ( 139338 sites kept; 0 skipped)\n",
      "4:180000000-190000000 complete. ( 145611 sites kept; 0 skipped)\n",
      "5:0-10000000 complete. ( 152376 sites kept; 0 skipped)\n",
      "5:10000000-20000000 complete. ( 141879 sites kept; 0 skipped)\n",
      "5:20000000-30000000 complete. ( 142374 sites kept; 0 skipped)\n",
      "5:40000000-50000000 complete. ( 116207 sites kept; 0 skipped)\n",
      "5:30000000-40000000 complete. ( 133655 sites kept; 0 skipped)\n",
      "5:50000000-60000000 complete. ( 138040 sites kept; 0 skipped)\n",
      "5:60000000-70000000 complete. ( 120162 sites kept; 0 skipped)\n",
      "5:70000000-80000000 complete. ( 126741 sites kept; 0 skipped)\n",
      "5:80000000-90000000 complete. ( 132618 sites kept; 0 skipped)\n",
      "5:90000000-100000000 complete. ( 133205 sites kept; 0 skipped)\n",
      "5:100000000-110000000 complete. ( 146353 sites kept; 0 skipped)\n",
      "5:180000000-190000000 complete. ( 10496 sites kept; 0 skipped)\n",
      "5:120000000-130000000 complete. ( 142659 sites kept; 0 skipped)\n",
      "5:110000000-120000000 complete. ( 159770 sites kept; 0 skipped)\n",
      "5:130000000-140000000 complete. ( 135915 sites kept; 0 skipped)\n",
      "5:140000000-150000000 complete. ( 137960 sites kept; 0 skipped)\n",
      "5:150000000-160000000 complete. ( 137312 sites kept; 0 skipped)\n",
      "5:160000000-170000000 complete. ( 144871 sites kept; 0 skipped)\n",
      "5:170000000-180000000 complete. ( 144634 sites kept; 0 skipped)\n",
      "6:20000000-30000000 complete. ( 133147 sites kept; 0 skipped)\n",
      "6:0-10000000 complete. ( 143523 sites kept; 0 skipped)\n",
      "6:10000000-20000000 complete. ( 142737 sites kept; 0 skipped)\n",
      "6:30000000-40000000 complete. ( 130026 sites kept; 0 skipped)\n",
      "6:40000000-50000000 complete. ( 141328 sites kept; 0 skipped)\n",
      "6:50000000-60000000 complete. ( 126931 sites kept; 0 skipped)\n",
      "6:60000000-70000000 complete. ( 125543 sites kept; 0 skipped)\n",
      "6:70000000-80000000 complete. ( 141536 sites kept; 0 skipped)\n",
      "6:90000000-100000000 complete. ( 135712 sites kept; 0 skipped)\n",
      "6:100000000-110000000 complete. ( 134096 sites kept; 0 skipped)\n",
      "6:80000000-90000000 complete. ( 145678 sites kept; 0 skipped)\n",
      "6:170000000-180000000 complete. ( 13884 sites kept; 0 skipped)\n",
      "6:110000000-120000000 complete. ( 132254 sites kept; 0 skipped)\n",
      "6:120000000-130000000 complete. ( 133600 sites kept; 0 skipped)\n",
      "6:130000000-140000000 complete. ( 137377 sites kept; 0 skipped)\n",
      "6:140000000-150000000 complete. ( 136390 sites kept; 0 skipped)\n",
      "6:150000000-160000000 complete. ( 140145 sites kept; 0 skipped)\n",
      "6:160000000-170000000 complete. ( 146673 sites kept; 0 skipped)\n",
      "7:10000000-20000000 complete. ( 159676 sites kept; 0 skipped)\n",
      "7:20000000-30000000 complete. ( 142349 sites kept; 0 skipped)\n",
      "7:30000000-40000000 complete. ( 133888 sites kept; 0 skipped)\n",
      "7:0-10000000 complete. ( 183054 sites kept; 0 skipped)\n",
      "7:50000000-60000000 complete. ( 118289 sites kept; 0 skipped)\n",
      "7:40000000-50000000 complete. ( 140278 sites kept; 0 skipped)\n",
      "7:60000000-70000000 complete. ( 129014 sites kept; 0 skipped)\n",
      "7:70000000-80000000 complete. ( 127642 sites kept; 0 skipped)\n",
      "7:80000000-90000000 complete. ( 137423 sites kept; 0 skipped)\n",
      "7:90000000-100000000 complete. ( 136226 sites kept; 0 skipped)\n",
      "7:110000000-120000000 complete. ( 134208 sites kept; 0 skipped)\n",
      "7:100000000-110000000 complete. ( 140736 sites kept; 0 skipped)\n",
      "7:120000000-130000000 complete. ( 133961 sites kept; 0 skipped)\n",
      "7:130000000-140000000 complete. ( 136553 sites kept; 0 skipped)\n",
      "7:140000000-150000000 complete. ( 134743 sites kept; 0 skipped)\n",
      "7:150000000-160000000 complete. ( 137625 sites kept; 0 skipped)\n",
      "8:40000000-50000000 complete. ( 118084 sites kept; 0 skipped)\n",
      "8:30000000-40000000 complete. ( 139962 sites kept; 0 skipped)\n",
      "8:20000000-30000000 complete. ( 148006 sites kept; 0 skipped)\n",
      "8:50000000-60000000 complete. ( 144950 sites kept; 0 skipped)\n",
      "8:10000000-20000000 complete. ( 191788 sites kept; 0 skipped)\n",
      "8:60000000-70000000 complete. ( 138412 sites kept; 0 skipped)\n",
      "8:0-10000000 complete. ( 221921 sites kept; 0 skipped)\n",
      "8:70000000-80000000 complete. ( 135173 sites kept; 0 skipped)\n",
      "8:80000000-90000000 complete. ( 136051 sites kept; 0 skipped)\n",
      "8:90000000-100000000 complete. ( 134252 sites kept; 0 skipped)\n",
      "8:100000000-110000000 complete. ( 134880 sites kept; 0 skipped)\n",
      "8:110000000-120000000 complete. ( 138005 sites kept; 0 skipped)\n",
      "9:40000000-50000000 complete. ( 18440 sites kept; 0 skipped)\n",
      "9:50000000-60000000 complete. ( 0 sites kept; 0 skipped)\n",
      "8:140000000-150000000 complete. ( 99589 sites kept; 0 skipped)\n",
      "8:120000000-130000000 complete. ( 139371 sites kept; 0 skipped)\n",
      "8:130000000-140000000 complete. ( 146708 sites kept; 0 skipped)\n",
      "9:60000000-70000000 complete. ( 19768 sites kept; 0 skipped)\n",
      "9:30000000-40000000 complete. ( 124375 sites kept; 0 skipped)\n",
      "9:0-10000000 complete. ( 186667 sites kept; 0 skipped)\n",
      "9:20000000-30000000 complete. ( 159966 sites kept; 0 skipped)\n",
      "9:70000000-80000000 complete. ( 122741 sites kept; 0 skipped)\n",
      "9:10000000-20000000 complete. ( 176426 sites kept; 0 skipped)\n",
      "9:80000000-90000000 complete. ( 138542 sites kept; 0 skipped)\n",
      "9:140000000-150000000 complete. ( 19161 sites kept; 0 skipped)\n",
      "9:90000000-100000000 complete. ( 134039 sites kept; 0 skipped)\n",
      "9:100000000-110000000 complete. ( 134919 sites kept; 0 skipped)\n",
      "9:110000000-120000000 complete. ( 137611 sites kept; 0 skipped)\n",
      "9:120000000-130000000 complete. ( 138014 sites kept; 0 skipped)\n",
      "9:130000000-140000000 complete. ( 155554 sites kept; 0 skipped)\n"
     ]
    }
   ],
   "source": [
    "results = Parallel(n_jobs=8) \\\n",
    "    (delayed(buildSpectraMatrixWrapper)(idx, fasta, 3, window_dict, subtypes_dict, par) \\\n",
    "    for idx in process_window_dict.keys())"
   ]
  },
  {
   "cell_type": "code",
   "execution_count": 373,
   "metadata": {
    "collapsed": true
   },
   "outputs": [],
   "source": [
    "nrow, ncol = results[1].shape\n",
    "M_r = np.zeros((nrow, ncol))\n",
    "\n",
    "for M_sub in results:\n",
    "    M_r = np.add(M_r, M_sub)"
   ]
  },
  {
   "cell_type": "code",
   "execution_count": 374,
   "metadata": {
    "scrolled": true
   },
   "outputs": [
    {
     "data": {
      "text/plain": [
       "(2897, 96)"
      ]
     },
     "execution_count": 374,
     "metadata": {},
     "output_type": "execute_result"
    }
   ],
   "source": [
    "M_r.sum(axis=0).sum()\n",
    "M_r.shape"
   ]
  },
  {
   "cell_type": "code",
   "execution_count": 375,
   "metadata": {
    "collapsed": true
   },
   "outputs": [],
   "source": [
    "del results"
   ]
  },
  {
   "cell_type": "code",
   "execution_count": 228,
   "metadata": {
    "collapsed": true
   },
   "outputs": [
    {
     "data": {
      "text/plain": [
       "array([11482,  5153,  6994,  7155,  6562,  6007,  8395,  6238,  6723,\n",
       "        3902,  6977,  4641,  6017,  3795,  4486,  5778, 11482,  5153,\n",
       "        6994,  7155,  6562,  6007,  8395,  6238,  6723,  3902,  6977,\n",
       "        4641,  6017,  3795,  4486,  5778, 11482,  5153,  6994,  7155,\n",
       "        6562,  6007,  8395,  6238,  6723,  3902,  6977,  4641,  6017,\n",
       "        3795,  4486,  5778,  7190,  4850,  1169,  5648,  7346,  6189,\n",
       "        1600,  7560,  5769,  5324,  1536,  5681,  6897,  6331,  1051,\n",
       "        7963,  7190,  4850,  1169,  5648,  7346,  6189,  1600,  7560,\n",
       "        5769,  5324,  1536,  5681,  6897,  6331,  1051,  7963,  7190,\n",
       "        4850,  1169,  5648,  7346,  6189,  1600,  7560,  5769,  5324,\n",
       "        1536,  5681,  6897,  6331,  1051,  7963])"
      ]
     },
     "execution_count": 228,
     "metadata": {},
     "output_type": "execute_result"
    }
   ],
   "source": [
    "# motif_counts(\"1:249000000-250000000\", subtypes_dict.keys())\n",
    "# window_dict.keys()"
   ]
  },
  {
   "cell_type": "code",
   "execution_count": 378,
   "metadata": {},
   "outputs": [],
   "source": [
    "results = Parallel(n_jobs=8) \\\n",
    "    (delayed(countMotifs)(idx, list(subtypes_dict.keys())) \\\n",
    "    for idx in window_dict.keys())\n",
    "    \n",
    "# nrow, ncol = results[1].shape\n",
    "M_w = np.zeros((len(window_dict.keys()), len(subtypes_dict.keys())))\n",
    "\n",
    "i = 0\n",
    "for M_sub in results:\n",
    "    M_w[i,] = np.array(M_sub)\n",
    "    i += 1"
   ]
  },
  {
   "cell_type": "code",
   "execution_count": 419,
   "metadata": {},
   "outputs": [
    {
     "data": {
      "text/plain": [
       "array([   0,    1,    2, ..., 2894, 2895, 2896])"
      ]
     },
     "execution_count": 419,
     "metadata": {},
     "output_type": "execute_result"
    }
   ],
   "source": [
    "drop_rows = np.where(M_r.all(axis=1)<5)[0]\n",
    "drop_rows\n",
    "# len(drop_rows)"
   ]
  },
  {
   "cell_type": "code",
   "execution_count": 444,
   "metadata": {},
   "outputs": [],
   "source": [
    "drop_rows = np.where(M_r.sum(axis=1)<10000)[0]"
   ]
  },
  {
   "cell_type": "code",
   "execution_count": 445,
   "metadata": {},
   "outputs": [
    {
     "data": {
      "text/plain": [
       "(2646, 96)"
      ]
     },
     "execution_count": 445,
     "metadata": {},
     "output_type": "execute_result"
    }
   ],
   "source": [
    "M_r1 = np.delete(M_r, drop_rows, axis=0)\n",
    "M_r1.shape"
   ]
  },
  {
   "cell_type": "code",
   "execution_count": 447,
   "metadata": {
    "collapsed": true
   },
   "outputs": [],
   "source": [
    "M_w1 = np.delete(M_w, drop_rows, axis=0)"
   ]
  },
  {
   "cell_type": "code",
   "execution_count": 449,
   "metadata": {},
   "outputs": [],
   "source": [
    "w_ids = np.delete(np.array(list(window_dict.keys())), drop_rows)"
   ]
  },
  {
   "cell_type": "code",
   "execution_count": 451,
   "metadata": {},
   "outputs": [],
   "source": [
    "# window_rates = np.divide(M_r, M_w+1e-6)\n",
    "window_rates = np.divide(M_r1, M_w1)\n",
    "\n",
    "window_rates_df = pd.DataFrame(data=window_rates, index=w_ids, columns=subtypes_dict.keys())\n",
    "\n",
    "window_rates_df.to_csv(\"/mnt/norbert/projects/ERV_mutation_hotspots/data/nmf_1Mb_M.csv\")"
   ]
  },
  {
   "cell_type": "code",
   "execution_count": 463,
   "metadata": {},
   "outputs": [],
   "source": [
    "bg_rates = np.divide(M_r1.sum(axis=0), M_w1.sum(axis=0))\n",
    "bg_rates_df = pd.DataFrame(data=bg_rates, index=subtypes_dict.keys(), columns=[\"rate\"])\n",
    "\n",
    "bg_rates_df.to_csv(\"/mnt/norbert/projects/ERV_mutation_hotspots/data/bg_rates.csv\")"
   ]
  },
  {
   "cell_type": "markdown",
   "metadata": {},
   "source": [
    "-------------------------------------------------------------\n",
    "## Run NMF on windowed data\n",
    "-------------------------------------------------------------"
   ]
  },
  {
   "cell_type": "code",
   "execution_count": 495,
   "metadata": {
    "collapsed": true
   },
   "outputs": [],
   "source": [
    "M_r2 = M/M.sum(axis=1)[:,None]"
   ]
  },
  {
   "cell_type": "code",
   "execution_count": 498,
   "metadata": {
    "collapsed": true
   },
   "outputs": [],
   "source": [
    "model = nimfa.Nmf(window_rates,\n",
    "            rank=5,\n",
    "            update=\"divergence\",\n",
    "            objective='div',\n",
    "            n_run=1,\n",
    "            max_iter=200)\n",
    "model_fit = model()\n",
    "evar = model_fit.fit.evar()"
   ]
  },
  {
   "cell_type": "code",
   "execution_count": 499,
   "metadata": {
    "scrolled": true
   },
   "outputs": [
    {
     "data": {
      "text/plain": [
       "0.99810850735003165"
      ]
     },
     "execution_count": 499,
     "metadata": {},
     "output_type": "execute_result"
    }
   ],
   "source": [
    "evar"
   ]
  },
  {
   "cell_type": "code",
   "execution_count": 502,
   "metadata": {},
   "outputs": [
    {
     "data": {
      "text/plain": [
       "0.69381236222032672"
      ]
     },
     "execution_count": 502,
     "metadata": {},
     "output_type": "execute_result"
    }
   ],
   "source": [
    "model1 = nimfa.Nmf(M_r2,\n",
    "            rank=20,\n",
    "            update=\"divergence\",\n",
    "            objective='div',\n",
    "            n_run=1,\n",
    "            max_iter=200)\n",
    "model_fit1 = model1()\n",
    "evar1 = model_fit1.fit.evar()\n",
    "evar1"
   ]
  },
  {
   "cell_type": "code",
   "execution_count": 454,
   "metadata": {},
   "outputs": [],
   "source": [
    "W = model_fit.basis()\n",
    "W.df = pd.DataFrame(data=W, index=w_ids, columns=[\"s1\", \"s2\", \"s3\", \"s4\", \"s5\"])\n",
    "\n",
    "W.df.to_csv(\"/mnt/norbert/projects/ERV_mutation_hotspots/data/nmf_1Mb_W.csv\")"
   ]
  },
  {
   "cell_type": "code",
   "execution_count": 455,
   "metadata": {
    "collapsed": true
   },
   "outputs": [],
   "source": [
    "H = model_fit.coef()\n",
    "H.df = pd.DataFrame(data=H, index=[\"s1\", \"s2\", \"s3\", \"s4\", \"s5\"], columns=subtypes_dict.keys())\n",
    "\n",
    "H.df.to_csv(\"/mnt/norbert/projects/ERV_mutation_hotspots/data/nmf_1Mb_H.csv\")"
   ]
  },
  {
   "cell_type": "markdown",
   "metadata": {},
   "source": [
    "## **(parse NMF results; ID peaks for each signature)**"
   ]
  },
  {
   "cell_type": "code",
   "execution_count": null,
   "metadata": {
    "collapsed": true
   },
   "outputs": [],
   "source": [
    "###"
   ]
  },
  {
   "cell_type": "markdown",
   "metadata": {},
   "source": [
    "## Build per-individual matrix for single peak analysis"
   ]
  },
  {
   "cell_type": "code",
   "execution_count": null,
   "metadata": {
    "collapsed": true
   },
   "outputs": [],
   "source": [
    "par = True\n",
    "\n",
    "input = \"/mnt/norbert/projects/ERV_mutation_hotspots/data/chr2.36-58.ac.vcf.gz\"\n",
    "\n",
    "samples = getSamplesVCF(input)\n",
    "\n",
    "# with open(args.input) as f:\n",
    "#     vcf_list = f.read().splitlines()\n",
    "\n",
    "results = Parallel(n_jobs=8) \\\n",
    "    (delayed(buildSpectraMatrix)(input, 2, start*100000, start*100000+100000, fasta, 3, subtypes_dict, par) \\\n",
    "    for start in range(360, 580))\n",
    "\n",
    "nrow, ncol = results[1].shape\n",
    "M = np.zeros((nrow, ncol))\n",
    "\n",
    "for M_sub in results:\n",
    "    M = np.add(M, M_sub)"
   ]
  },
  {
   "cell_type": "code",
   "execution_count": 338,
   "metadata": {
    "collapsed": true
   },
   "outputs": [],
   "source": [
    "M_df = pd.DataFrame(data=M, index=np.array(samples), columns=subtypes_dict.keys())\n",
    "\n",
    "M_df.to_csv(\"/mnt/norbert/projects/ERV_mutation_hotspots/data/bridges_M.chr2.36-58.csv\")\n",
    "\n"
   ]
  },
  {
   "cell_type": "code",
   "execution_count": 484,
   "metadata": {},
   "outputs": [
    {
     "data": {
      "text/plain": [
       "array([[ 2.,  1.,  0., ...,  2.,  1.,  4.],\n",
       "       [ 3.,  1.,  0., ...,  1.,  2.,  6.],\n",
       "       [ 0.,  0.,  1., ...,  1.,  2.,  2.],\n",
       "       ..., \n",
       "       [ 0.,  0.,  1., ...,  3.,  3.,  3.],\n",
       "       [ 1.,  0.,  0., ...,  3.,  1.,  0.],\n",
       "       [ 2.,  1.,  1., ...,  0.,  2.,  1.]])"
      ]
     },
     "execution_count": 484,
     "metadata": {},
     "output_type": "execute_result"
    }
   ],
   "source": [
    "M_df = pd.DataFrame.from_csv(\"/mnt/norbert/projects/ERV_mutation_hotspots/data/bridges_M.chr2.36-58.csv\")\n",
    "M_df\n",
    "M = M_df.values\n",
    "M"
   ]
  },
  {
   "cell_type": "code",
   "execution_count": null,
   "metadata": {
    "collapsed": true
   },
   "outputs": [],
   "source": [
    "# data=buildSpectraMatrix(input, chr, 36000000, 37000000, fasta, 3, subtypes_dict, par)"
   ]
  },
  {
   "cell_type": "markdown",
   "metadata": {},
   "source": [
    "#### Reshape from 3-mer to 1-mer spectra (M2); Convert counts to proportions (M2a)"
   ]
  },
  {
   "cell_type": "code",
   "execution_count": 485,
   "metadata": {},
   "outputs": [],
   "source": [
    "M2 = M.reshape(-1,6,16).sum(axis=2)\n",
    "M2a = M2/M2.sum(axis=1)[:,None]"
   ]
  },
  {
   "cell_type": "code",
   "execution_count": 504,
   "metadata": {},
   "outputs": [
    {
     "data": {
      "image/png": "[encoded data removed]",
      "text/plain": [
       "<matplotlib.figure.Figure at 0x7f5f4b528c88>"
      ]
     },
     "metadata": {},
     "output_type": "display_data"
    }
   ],
   "source": [
    "M2a_gc = M2a[:,4]\n",
    "M2a_gc\n",
    "bins = np.linspace(min(M2a_gc), max(M2a_gc), 50)\n",
    "plt.hist(M2a_gc, bins, color=\"#33A02C\");"
   ]
  },
  {
   "cell_type": "markdown",
   "metadata": {},
   "source": [
    "## Load unrelated samples and target signature"
   ]
  },
  {
   "cell_type": "code",
   "execution_count": null,
   "metadata": {
    "collapsed": true
   },
   "outputs": [],
   "source": [
    "keep_samples = \"/mnt/norbert/projects/ERV_mutation_hotspots/data/freeze3a_phased_samples_unrelated.txt\"\n",
    "\n",
    "with open(keep_samples) as f:\n",
    "    ur_samples = f.read().splitlines()\n",
    "\n",
    "c = [None] * len(samples)\n",
    "for i,x in enumerate(samples):\n",
    "        if x in ur_samples:\n",
    "            c[i] = True\n",
    "        else:\n",
    "            c[i] = False"
   ]
  },
  {
   "cell_type": "code",
   "execution_count": null,
   "metadata": {
    "collapsed": true
   },
   "outputs": [],
   "source": [
    "sig_contribs = {}\n",
    "\n",
    "with open(\"/mnt/norbert/projects/ERV_mutation_hotspots/data/s1c.txt\") as f:\n",
    "    for line in f:\n",
    "        tok = line.split()\n",
    "        sig_contribs[tok[0]] = float(tok[1])\n",
    "            \n",
    "target_sig = list(sig_contribs.values())"
   ]
  },
  {
   "cell_type": "markdown",
   "metadata": {},
   "source": [
    "-------------------------------------------------------------\n",
    "## Run single-variant association\n",
    "Get RMSE between observed and target for each SNP\n",
    "\n",
    "alternative is to run chisq contingency table\n",
    "\n",
    "----------------------------------------------------------------"
   ]
  },
  {
   "cell_type": "code",
   "execution_count": null,
   "metadata": {
    "collapsed": true,
    "scrolled": true
   },
   "outputs": [],
   "source": [
    "# DEPRECATED\n",
    "\n",
    "# Parallel(n_jobs=8) \\\n",
    "#     (delayed(scanVars)(input, c, chr, start*100000, start*100000+100000, 10, M2) \\\n",
    "#     for start in range(360, 580))\n",
    "\n",
    "# TEST WITHOUT PARALLEL\n",
    "\n",
    "# rmse_hash2 = scanVars(input, c, chr, 36000000, 36100000, 30, M, target_sig)"
   ]
  },
  {
   "cell_type": "code",
   "execution_count": 341,
   "metadata": {
    "collapsed": true
   },
   "outputs": [],
   "source": [
    "c = np.array([True]*len(samples))"
   ]
  },
  {
   "cell_type": "code",
   "execution_count": 87,
   "metadata": {
    "collapsed": true
   },
   "outputs": [
    {
     "name": "stderr",
     "output_type": "stream",
     "text": [
      "running query:  2:37600000-37700000\n",
      "running query:  2:37700000-37800000\n",
      "running query:  2:37800000-37900000\n",
      "running query:  2:37900000-38000000\n",
      "running query:  2:38000000-38100000\n",
      "running query:  2:38100000-38200000\n",
      "running query:  2:38200000-38300000\n",
      "running query:  2:38300000-38400000\n",
      "running query:  2:38400000-38500000\n",
      "running query:  2:38500000-38600000\n",
      "running query:  2:38600000-38700000\n",
      "running query:  2:38700000-38800000\n",
      "running query:  2:38800000-38900000\n",
      "running query:  2:38900000-39000000\n",
      "running query:  2:39000000-39100000\n",
      "running query:  2:39100000-39200000\n",
      "running query:  2:39200000-39300000\n",
      "running query:  2:39300000-39400000\n",
      "running query:  2:39400000-39500000\n",
      "running query:  2:39500000-39600000\n",
      "running query:  2:39600000-39700000\n",
      "running query:  2:39700000-39800000\n",
      "running query:  2:39800000-39900000\n",
      "running query:  2:39900000-40000000\n",
      "running query:  2:40000000-40100000\n",
      "running query:  2:40100000-40200000\n",
      "running query:  2:40200000-40300000\n",
      "running query:  2:40300000-40400000\n",
      "running query:  2:40400000-40500000\n",
      "running query:  2:40500000-40600000\n",
      "running query:  2:40600000-40700000\n",
      "running query:  2:40700000-40800000\n",
      "running query:  2:40800000-40900000\n",
      "running query:  2:40900000-41000000\n",
      "running query:  2:41000000-41100000\n",
      "running query:  2:41100000-41200000\n",
      "running query:  2:41200000-41300000\n",
      "running query:  2:41300000-41400000\n",
      "running query:  2:41400000-41500000\n",
      "running query:  2:41500000-41600000\n",
      "running query:  2:41600000-41700000\n",
      "running query:  2:41700000-41800000\n",
      "running query:  2:41800000-41900000\n",
      "running query:  2:41900000-42000000\n",
      "running query:  2:42000000-42100000\n",
      "running query:  2:42100000-42200000\n",
      "running query:  2:42200000-42300000\n",
      "running query:  2:42300000-42400000\n",
      "running query:  2:42400000-42500000\n",
      "running query:  2:42500000-42600000\n",
      "running query:  2:42600000-42700000\n",
      "running query:  2:42700000-42800000\n",
      "running query:  2:42800000-42900000\n",
      "running query:  2:42900000-43000000\n",
      "running query:  2:43000000-43100000\n",
      "running query:  2:43100000-43200000\n",
      "running query:  2:43200000-43300000\n",
      "running query:  2:43300000-43400000\n",
      "running query:  2:43400000-43500000\n",
      "running query:  2:43500000-43600000\n",
      "running query:  2:43600000-43700000\n",
      "running query:  2:43700000-43800000\n",
      "running query:  2:43800000-43900000\n",
      "running query:  2:43900000-44000000\n",
      "running query:  2:44000000-44100000\n",
      "running query:  2:44100000-44200000\n",
      "running query:  2:44200000-44300000\n",
      "running query:  2:44300000-44400000\n",
      "running query:  2:44400000-44500000\n",
      "running query:  2:44500000-44600000\n",
      "running query:  2:44600000-44700000\n",
      "running query:  2:44700000-44800000\n",
      "running query:  2:44800000-44900000\n",
      "running query:  2:44900000-45000000\n",
      "running query:  2:45000000-45100000\n",
      "running query:  2:45100000-45200000\n",
      "running query:  2:45200000-45300000\n",
      "running query:  2:45300000-45400000\n",
      "running query:  2:45400000-45500000\n",
      "running query:  2:45500000-45600000\n",
      "running query:  2:45600000-45700000\n",
      "running query:  2:45700000-45800000\n",
      "running query:  2:45800000-45900000\n",
      "running query:  2:45900000-46000000\n",
      "running query:  2:46000000-46100000\n",
      "running query:  2:46100000-46200000\n",
      "running query:  2:46200000-46300000\n",
      "running query:  2:46300000-46400000\n",
      "running query:  2:46400000-46500000\n",
      "running query:  2:46500000-46600000\n",
      "running query:  2:46600000-46700000\n",
      "running query:  2:46700000-46800000\n",
      "running query:  2:46800000-46900000\n",
      "running query:  2:46900000-47000000\n",
      "running query:  2:47000000-47100000\n",
      "running query:  2:47100000-47200000\n",
      "running query:  2:47200000-47300000\n",
      "running query:  2:47300000-47400000\n",
      "running query:  2:47400000-47500000\n",
      "running query:  2:47500000-47600000\n",
      "running query:  2:47600000-47700000\n",
      "running query:  2:47700000-47800000\n",
      "running query:  2:47800000-47900000\n",
      "running query:  2:47900000-48000000\n",
      "running query:  2:48000000-48100000\n",
      "running query:  2:48100000-48200000\n",
      "running query:  2:48200000-48300000\n",
      "running query:  2:48300000-48400000\n",
      "running query:  2:48400000-48500000\n",
      "running query:  2:48500000-48600000\n",
      "running query:  2:48600000-48700000\n",
      "running query:  2:48700000-48800000\n",
      "running query:  2:48800000-48900000\n",
      "running query:  2:48900000-49000000\n",
      "running query:  2:49000000-49100000\n",
      "running query:  2:49100000-49200000\n",
      "running query:  2:49200000-49300000\n",
      "running query:  2:49300000-49400000\n",
      "running query:  2:49400000-49500000\n",
      "running query:  2:49500000-49600000\n",
      "running query:  2:49600000-49700000\n",
      "running query:  2:49700000-49800000\n",
      "running query:  2:49800000-49900000\n",
      "running query:  2:49900000-50000000\n",
      "running query:  2:50000000-50100000\n",
      "running query:  2:50100000-50200000\n",
      "running query:  2:50200000-50300000\n",
      "running query:  2:50300000-50400000\n",
      "running query:  2:50400000-50500000\n",
      "running query:  2:50500000-50600000\n",
      "running query:  2:50600000-50700000\n",
      "running query:  2:50700000-50800000\n",
      "running query:  2:50800000-50900000\n",
      "running query:  2:50900000-51000000\n",
      "running query:  2:51000000-51100000\n",
      "running query:  2:51100000-51200000\n",
      "running query:  2:51200000-51300000\n",
      "running query:  2:51300000-51400000\n",
      "running query:  2:51400000-51500000\n",
      "running query:  2:51500000-51600000\n",
      "running query:  2:51600000-51700000\n",
      "running query:  2:51700000-51800000\n",
      "running query:  2:51800000-51900000\n",
      "running query:  2:51900000-52000000\n",
      "running query:  2:52000000-52100000\n",
      "running query:  2:52100000-52200000\n",
      "running query:  2:52200000-52300000\n",
      "running query:  2:52300000-52400000\n",
      "running query:  2:52400000-52500000\n",
      "running query:  2:52500000-52600000\n",
      "running query:  2:52600000-52700000\n",
      "running query:  2:52700000-52800000\n",
      "running query:  2:52800000-52900000\n",
      "running query:  2:52900000-53000000\n",
      "running query:  2:53000000-53100000\n",
      "running query:  2:53100000-53200000\n",
      "running query:  2:53200000-53300000\n",
      "running query:  2:53300000-53400000\n",
      "running query:  2:53400000-53500000\n",
      "running query:  2:53500000-53600000\n",
      "running query:  2:53600000-53700000\n",
      "running query:  2:53700000-53800000\n",
      "running query:  2:53800000-53900000\n",
      "running query:  2:53900000-54000000\n",
      "running query:  2:54000000-54100000\n",
      "running query:  2:54100000-54200000\n",
      "running query:  2:54200000-54300000\n",
      "running query:  2:54300000-54400000\n",
      "running query:  2:54400000-54500000\n",
      "running query:  2:54500000-54600000\n",
      "running query:  2:54600000-54700000\n",
      "running query:  2:54700000-54800000\n",
      "running query:  2:54800000-54900000\n",
      "running query:  2:54900000-55000000\n",
      "running query:  2:55000000-55100000\n",
      "running query:  2:55100000-55200000\n",
      "running query:  2:55200000-55300000\n",
      "running query:  2:55300000-55400000\n",
      "running query:  2:55400000-55500000\n",
      "running query:  2:55500000-55600000\n",
      "running query:  2:55600000-55700000\n",
      "running query:  2:55700000-55800000\n",
      "running query:  2:55800000-55900000\n",
      "running query:  2:55900000-56000000\n",
      "running query:  2:56000000-56100000\n",
      "running query:  2:56100000-56200000\n",
      "running query:  2:56200000-56300000\n",
      "running query:  2:56300000-56400000\n",
      "running query:  2:56400000-56500000\n",
      "running query:  2:56500000-56600000\n",
      "running query:  2:56600000-56700000\n",
      "running query:  2:56700000-56800000\n",
      "running query:  2:56800000-56900000\n",
      "running query:  2:56900000-57000000\n",
      "running query:  2:57000000-57100000\n",
      "running query:  2:57100000-57200000\n",
      "running query:  2:57200000-57300000\n",
      "running query:  2:57300000-57400000\n",
      "running query:  2:57400000-57500000\n",
      "running query:  2:57500000-57600000\n",
      "running query:  2:57600000-57700000\n",
      "running query:  2:57700000-57800000\n",
      "running query:  2:57800000-57900000\n",
      "running query:  2:57900000-58000000\n"
     ]
    }
   ],
   "source": [
    "rmse_o1 = Parallel(n_jobs=8) \\\n",
    "    (delayed(scanVars)(input, c, chr, start*100000, start*100000+100000, 10, M, target_sig) \\\n",
    "    for start in range(360, 580))"
   ]
  },
  {
   "cell_type": "code",
   "execution_count": null,
   "metadata": {
    "collapsed": true
   },
   "outputs": [],
   "source": [
    "# scanVars(input, c, chr, 36000000, 36100000, 30, M, target_sig)"
   ]
  },
  {
   "cell_type": "code",
   "execution_count": 89,
   "metadata": {
    "collapsed": true
   },
   "outputs": [],
   "source": [
    "rmse_hash2 = {}\n",
    "\n",
    "for d_sub in rmse_o1:\n",
    "    rmse_hash2 = {**rmse_hash2, **d_sub}\n",
    "    \n",
    "save_object(rmse_hash2, '/mnt/norbert/projects/ERV_mutation_hotspots/data/rmse_hash2.pkl')"
   ]
  },
  {
   "cell_type": "code",
   "execution_count": 109,
   "metadata": {},
   "outputs": [
    {
     "data": {
      "text/plain": [
       "108721"
      ]
     },
     "execution_count": 109,
     "metadata": {},
     "output_type": "execute_result"
    }
   ],
   "source": [
    "ac_list = list(np.sort(np.array(list(rmse_hash2.values()))[:,1]))\n",
    "ac_list = list(map(int, ac_list))\n",
    "len(ac_list)\n",
    "max(ac_list)"
   ]
  },
  {
   "cell_type": "code",
   "execution_count": 516,
   "metadata": {},
   "outputs": [
    {
     "data": {
      "text/plain": [
       "[36001109,\n",
       " 36001112,\n",
       " 36001116,\n",
       " 36001197,\n",
       " 36001376,\n",
       " 36001413,\n",
       " 36001752,\n",
       " 36001773,\n",
       " 36001845]"
      ]
     },
     "execution_count": 516,
     "metadata": {},
     "output_type": "execute_result"
    }
   ],
   "source": [
    "list(rmse_hash2.keys())[1:10]"
   ]
  },
  {
   "cell_type": "markdown",
   "metadata": {},
   "source": [
    "#### Plot observed RMSE distribution"
   ]
  },
  {
   "cell_type": "code",
   "execution_count": 91,
   "metadata": {
    "scrolled": true
   },
   "outputs": [
    {
     "data": {
      "image/png": "[encoded data removed]",
      "text/plain": [
       "<matplotlib.figure.Figure at 0x7f5f585485c0>"
      ]
     },
     "metadata": {},
     "output_type": "display_data"
    }
   ],
   "source": [
    "rmse_o = np.array(list(rmse_hash2.values()))[:,0]\n",
    "# rmse_o = np.log(1/rmse_o)\n",
    "# rmse_o = rmse_o[rmse_o>4.6]\n",
    "\n",
    "bins_o = np.linspace(min(rmse_o), max(rmse_o), 100)\n",
    "plt.hist(rmse_o, bins_o);"
   ]
  },
  {
   "cell_type": "markdown",
   "metadata": {},
   "source": [
    "#### Get permuted RMSE distribution"
   ]
  },
  {
   "cell_type": "code",
   "execution_count": 118,
   "metadata": {
    "collapsed": true
   },
   "outputs": [],
   "source": [
    "rmse_p = np.array(permRMSE(M, target_sig, c, 1000000, 10, ac_list))\n",
    "\n",
    "# rmse_p = np.array(rmse_p)\n",
    "# rmse_p = np.log(1/rmse_p)"
   ]
  },
  {
   "cell_type": "markdown",
   "metadata": {},
   "source": [
    "#### Plot permuted RMSE distribution"
   ]
  },
  {
   "cell_type": "code",
   "execution_count": 120,
   "metadata": {
    "scrolled": true
   },
   "outputs": [
    {
     "data": {
      "image/png": "[encoded data removed]",
      "text/plain": [
       "<matplotlib.figure.Figure at 0x7f5f6a4547b8>"
      ]
     },
     "metadata": {},
     "output_type": "display_data"
    }
   ],
   "source": [
    "bins = np.linspace(min(rmse_p), max(rmse_p), 100)\n",
    "plt.hist(rmse_p, bins);\n",
    "# fig = plt.gcf()\n",
    "# plot_url = py.plot_mpl(fig, filename='mpl-basic-histogram')"
   ]
  },
  {
   "cell_type": "markdown",
   "metadata": {},
   "source": [
    "#### Calculate permutation p-values"
   ]
  },
  {
   "cell_type": "code",
   "execution_count": 523,
   "metadata": {},
   "outputs": [],
   "source": [
    "min(rmse_o)\n",
    "rmse_o.sort()\n",
    "testlist = np.array(rmse_p)\n",
    "testlist.sort()\n",
    "\n",
    "pvals = [None] * len(rmse_o)\n",
    "\n",
    "pvals_dict = {}\n",
    "\n",
    "for key in rmse_hash2:\n",
    "    npw = np.where(testlist<rmse_hash2[key][0])\n",
    "    pval = len(npw[0])/len(testlist)\n",
    "    pvals_dict[key] = pval"
   ]
  },
  {
   "cell_type": "code",
   "execution_count": 524,
   "metadata": {},
   "outputs": [],
   "source": [
    "import operator\n",
    "sorted_pvals = sorted(pvals_dict.items(), key=operator.itemgetter(1))"
   ]
  },
  {
   "cell_type": "code",
   "execution_count": 525,
   "metadata": {},
   "outputs": [
    {
     "data": {
      "text/plain": [
       "[(48526954, 1.9e-05),\n",
       " (48391639, 2.8e-05),\n",
       " (48138783, 6.4e-05),\n",
       " (48130921, 7.4e-05),\n",
       " (48686521, 9e-05),\n",
       " (48224893, 9.4e-05),\n",
       " (48266895, 9.6e-05),\n",
       " (48509529, 0.000133),\n",
       " (48592141, 0.000133),\n",
       " (48328149, 0.000138)]"
      ]
     },
     "execution_count": 525,
     "metadata": {},
     "output_type": "execute_result"
    }
   ],
   "source": [
    "sorted_pvals[0:10]"
   ]
  },
  {
   "cell_type": "code",
   "execution_count": 122,
   "metadata": {},
   "outputs": [
    {
     "data": {
      "text/plain": [
       "5589"
      ]
     },
     "execution_count": 122,
     "metadata": {},
     "output_type": "execute_result"
    }
   ],
   "source": [
    "pvals_np = np.array(pvals)\n",
    "npw=np.where(pvals_np<0.05)\n",
    "len(npw[0])"
   ]
  },
  {
   "cell_type": "markdown",
   "metadata": {},
   "source": [
    "#### Plot p-values"
   ]
  },
  {
   "cell_type": "code",
   "execution_count": 123,
   "metadata": {},
   "outputs": [
    {
     "data": {
      "image/png": "[encoded data removed]",
      "text/plain": [
       "<matplotlib.figure.Figure at 0x7f5f4b7fe6a0>"
      ]
     },
     "metadata": {},
     "output_type": "display_data"
    }
   ],
   "source": [
    "bins_pvals= np.linspace(min(pvals), max(pvals), 100)\n",
    "plt.hist(pvals, bins_pvals);"
   ]
  },
  {
   "cell_type": "code",
   "execution_count": 125,
   "metadata": {},
   "outputs": [
    {
     "name": "stdout",
     "output_type": "stream",
     "text": [
      "[ 0.00775591  0.0077741   0.00782443  0.00790458  0.00792711  0.00792937\n",
      "  0.00796854  0.00798511  0.00811277  0.00847744]\n",
      "[ 0.00974438  0.0097534   0.00975575  0.00978555  0.00981206  0.00987482\n",
      "  0.0099478   0.00997049  0.01024502  0.01070101]\n",
      "[1.0, 1.0, 1.0, 1.0, 1.0, 1.0, 1.0, 1.0, 1.0, 1.0]\n"
     ]
    }
   ],
   "source": [
    "print(testlist[-10:])\n",
    "print(rmse_o[-10:])\n",
    "print(pvals[-10:])"
   ]
  },
  {
   "cell_type": "markdown",
   "metadata": {},
   "source": [
    "#### Load sample ancestry (DEPRECATED)"
   ]
  },
  {
   "cell_type": "code",
   "execution_count": null,
   "metadata": {
    "collapsed": true
   },
   "outputs": [],
   "source": [
    "sample_anc_max = {}\n",
    "\n",
    "with open(\"/mnt/norbert/projects/ERV_mutation_hotspots/data/ethnicity_max.txt\") as f:\n",
    "    for line in f:\n",
    "        tok = line.split()\n",
    "        if int(tok[1]) == 4:\n",
    "            sample_anc_max[tok[0]] = tok[1]"
   ]
  },
  {
   "cell_type": "code",
   "execution_count": null,
   "metadata": {
    "collapsed": true
   },
   "outputs": [],
   "source": [
    "def loadAnc(file, idx, prop):\n",
    "    sample_anc2 = {}\n",
    "\n",
    "    with open(file) as f:\n",
    "        for line in f:\n",
    "            tok = line.split()\n",
    "    #         if int(tok[1]) == 4:\n",
    "            sample_anc2[tok[0]] = float(tok[4])\n",
    "        \n",
    "        \n",
    "    return {k: v for k, v in sample_anc2.items() if v > prop}"
   ]
  },
  {
   "cell_type": "code",
   "execution_count": 349,
   "metadata": {},
   "outputs": [
    {
     "ename": "NameError",
     "evalue": "name 'loadAnc' is not defined",
     "output_type": "error",
     "traceback": [
      "\u001b[0;31m---------------------------------------------------------------------------\u001b[0m",
      "\u001b[0;31mNameError\u001b[0m                                 Traceback (most recent call last)",
      "\u001b[0;32m<ipython-input-349-3b2d4d5f2025>\u001b[0m in \u001b[0;36m<module>\u001b[0;34m()\u001b[0m\n\u001b[0;32m----> 1\u001b[0;31m \u001b[0msample_anc2a\u001b[0m \u001b[0;34m=\u001b[0m \u001b[0mloadAnc\u001b[0m\u001b[0;34m(\u001b[0m\u001b[0;34m\"/mnt/norbert/projects/ERV_mutation_hotspots/data/global_list_19815.txt\"\u001b[0m\u001b[0;34m,\u001b[0m \u001b[0;36m4\u001b[0m\u001b[0;34m,\u001b[0m \u001b[0;36m0.5\u001b[0m\u001b[0;34m)\u001b[0m\u001b[0;34m\u001b[0m\u001b[0m\n\u001b[0m\u001b[1;32m      2\u001b[0m \u001b[0mlen\u001b[0m\u001b[0;34m(\u001b[0m\u001b[0msample_anc2a\u001b[0m\u001b[0;34m.\u001b[0m\u001b[0mkeys\u001b[0m\u001b[0;34m(\u001b[0m\u001b[0;34m)\u001b[0m\u001b[0;34m)\u001b[0m\u001b[0;34m\u001b[0m\u001b[0m\n",
      "\u001b[0;31mNameError\u001b[0m: name 'loadAnc' is not defined"
     ]
    }
   ],
   "source": [
    "sample_anc2a = loadAnc(\"/mnt/norbert/projects/ERV_mutation_hotspots/data/global_list_19815.txt\", 4, 0.5)\n",
    "len(sample_anc2a.keys())"
   ]
  },
  {
   "cell_type": "markdown",
   "metadata": {},
   "source": [
    "## Generate PED file for EPACTS \n",
    "### uses log counts of singletons in region as phenotype"
   ]
  },
  {
   "cell_type": "code",
   "execution_count": 126,
   "metadata": {
    "collapsed": true
   },
   "outputs": [],
   "source": [
    "counts = M.sum(axis=1)\n",
    "\n",
    "subcounts = counts[c]\n",
    "\n",
    "logcounts=np.log(counts+1)\n",
    "bins_counts = np.linspace(min(logcounts), max(logcounts), 100)\n",
    "plt.hist(logcounts, bins_counts);"
   ]
  },
  {
   "cell_type": "code",
   "execution_count": 509,
   "metadata": {},
   "outputs": [],
   "source": [
    "tv_counts = M2[:,[True, False, True, True, True, False]].sum(axis=1)\n",
    "log_tv_counts = np.log(tv_counts+1)"
   ]
  },
  {
   "cell_type": "code",
   "execution_count": null,
   "metadata": {
    "collapsed": true
   },
   "outputs": [],
   "source": [
    "tv_prop = tv_counts/counts\n",
    "tv_prop[0:10]"
   ]
  },
  {
   "cell_type": "code",
   "execution_count": 533,
   "metadata": {},
   "outputs": [
    {
     "data": {
      "image/png": "[encoded data removed]",
      "text/plain": [
       "<matplotlib.figure.Figure at 0x7f5f4bdb4b70>"
      ]
     },
     "metadata": {},
     "output_type": "display_data"
    }
   ],
   "source": [
    "bins = np.linspace(min(tv_prop), max(tv_prop), 50)\n",
    "plt.hist(tv_prop, bins, color=\"#33A02C\");"
   ]
  },
  {
   "cell_type": "code",
   "execution_count": 538,
   "metadata": {
    "collapsed": true
   },
   "outputs": [],
   "source": [
    "# ped = \"/mnt/norbert/projects/ERV_mutation_hotspots/data/topmed.65k.chr2.36-58.ped\"\n",
    "pedpath = \"/mnt/norbert/projects/ERV_mutation_hotspots/data/bridges.chr2.36-58.ped\"\n",
    "\n",
    "cg_prop=M2a[:,4]\n",
    "\n",
    "\n",
    "# createPed(pedpath, samples, cg_prop)\n",
    "# createPed(pedpath, samples, logcounts)\n",
    "createPed(pedpath, samples, tv_prop)"
   ]
  }
 ],
 "metadata": {
  "kernelspec": {
   "display_name": "Python 3",
   "language": "python",
   "name": "python3"
  },
  "language_info": {
   "codemirror_mode": {
    "name": "ipython",
    "version": 3
   },
   "file_extension": ".py",
   "mimetype": "text/x-python",
   "name": "python",
   "nbconvert_exporter": "python",
   "pygments_lexer": "ipython3",
   "version": "3.6.2"
  }
 },
 "nbformat": 4,
 "nbformat_minor": 2
}
