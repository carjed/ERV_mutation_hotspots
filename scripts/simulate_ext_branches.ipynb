{
 "cells": [
  {
   "cell_type": "markdown",
   "metadata": {},
   "source": [
    "### Load packages"
   ]
  },
  {
   "cell_type": "code",
   "execution_count": 1,
   "metadata": {},
   "outputs": [],
   "source": [
    "import msprime\n",
    "import numpy as np\n",
    "import pandas as pd\n",
    "import math\n",
    "from random import shuffle"
   ]
  },
  {
   "cell_type": "code",
   "execution_count": 6,
   "metadata": {},
   "outputs": [],
   "source": [
    "import plotly\n",
    "import plotly.plotly as py\n",
    "# from plotly.offline import download_plotlyjs, init_notebook_mode, plot, iplot\n",
    "import plotly.graph_objs as go\n",
    "import numpy as np\n",
    "\n",
    "import matplotlib.pyplot as plt\n",
    "%matplotlib inline\n",
    "# plotly.offline.init_notebook_mode(connected=True)\n",
    "plotly.tools.set_credentials_file(username='jed.e.carlson', api_key='tv59AK36bWkTieq6qJdH')"
   ]
  },
  {
   "cell_type": "markdown",
   "metadata": {},
   "source": [
    "### Set up simulation under Fu et al., 2013 out-of-Africa model with recent rapid growth"
   ]
  },
  {
   "cell_type": "code",
   "execution_count": 7,
   "metadata": {},
   "outputs": [],
   "source": [
    "def out_of_africa(mu=1.5e-8, phi=0, length=1e4, n_afr=0, n_eur=0, debug=False):\n",
    "    # First we set out the maximum likelihood values of the various parameters\n",
    "    # given in Table 1.\n",
    "    # Times are provided in years, so we convert into generations.\n",
    "    generation_time = 25\n",
    "    \n",
    "    # 220kya:\n",
    "    # African population constant with Ne~7300\n",
    "    N_A = 7310\n",
    "    \n",
    "    # 148kya:\n",
    "    # instantaneous growth to Ne~14000\n",
    "    T_AF = 148e3 / generation_time\n",
    "    N_AF = 14474\n",
    "    \n",
    "    # 51kya:\n",
    "    # non-AFR pops migrate OOA; bottlenecks to Ne~1800\n",
    "    # migration between AFR occurs\n",
    "    N_B = 1861\n",
    "    T_SPLIT = 51e3 / generation_time\n",
    "    m_AF_B = 15e-5\n",
    "    \n",
    "    # 23kya:\n",
    "    # 2nd EUR bottlenecks to Ne~1000 & starts growing with rate 0.307%\n",
    "    # migration rate slows between AFR-EUR\n",
    "    N_EU0 = 1032\n",
    "    T_EU_B = 23e3 / generation_time\n",
    "    m_AF_EU = 2.5e-5\n",
    "    r_EU0 = 0.00307\n",
    "    N_EU1 = N_EU0 / math.exp(-r_EU0 * T_EU_B)\n",
    "    \n",
    "    # 5.1kya:\n",
    "    # explosive growth in both AFR & EUR\n",
    "    # Fu 2013  \n",
    "#     T_EG = 5.1e3 / generation_time\n",
    "#     r_EU = 0.0195\n",
    "#     r_AF = 0.0166\n",
    "#     N_EU_start = N_EU1 / math.exp(-r_EU * T_EG)\n",
    "#     m_EG = 0\n",
    "#     N_AF_start = N_AF / math.exp(-r_AF * T_EG)\n",
    "\n",
    "    # Chen 2015\n",
    "    T_EG = 7.26e3 / generation_time \n",
    "    r_EU = 0.0149\n",
    "    r_AF = 0.00735\n",
    "    N_EU_start = N_EU1 / math.exp(-r_EU * T_EG)\n",
    "    m_EG = 0\n",
    "    N_AF_start = N_AF / math.exp(-r_AF * T_EG)\n",
    "\n",
    "    # Gazave 2014\n",
    "#     T_EG = 3.52e3 / generation_time \n",
    "#     r_EU = 0.034\n",
    "#     r_AF = 0.00735\n",
    "#     N_EU = N_EU1 / math.exp(-r_EU * T_EG)\n",
    "#     m_EG = 0\n",
    "#     N_AF1 = N_AF / math.exp(-r_AF * T_EG)\n",
    "    \n",
    "    # Population IDs correspond to their indexes in the population\n",
    "    # configuration array. Therefore, we have 0=YRI, 1=CEU initially.\n",
    "    population_configurations = [\n",
    "        msprime.PopulationConfiguration(\n",
    "            sample_size=n_afr, initial_size=N_AF_start, growth_rate=r_AF),\n",
    "        msprime.PopulationConfiguration(\n",
    "            sample_size=n_eur, initial_size=N_EU_start, growth_rate=r_EU)#,\n",
    "    ]\n",
    "\n",
    "    # up to 5.1kya, no migration\n",
    "    migration_matrix = [\n",
    "        [0, 0],\n",
    "        [0, 0],\n",
    "    ]\n",
    "    \n",
    "    demographic_events = [\n",
    "        # at 5.1kya, change to slow growth rate in EUR & stop growth in AFR;\n",
    "        # add migration rate\n",
    "        msprime.MigrationRateChange(\n",
    "            time=T_EG, rate=m_AF_EU, matrix_index=(0, 1)),\n",
    "        msprime.MigrationRateChange(\n",
    "            time=T_EG, rate=m_AF_EU, matrix_index=(1, 0)),\n",
    "        msprime.PopulationParametersChange(\n",
    "            time=T_EG, growth_rate=r_EU0, initial_size=N_EU1, population_id=1),\n",
    "        msprime.PopulationParametersChange(\n",
    "            time=T_EG, growth_rate=0, population_id=0),\n",
    "        \n",
    "        # at 23kya, EUR growth stops and migration rates increase\n",
    "        msprime.MigrationRateChange(\n",
    "            time=T_EU_B, rate=m_AF_B, matrix_index=(0, 1)),\n",
    "        msprime.MigrationRateChange(\n",
    "            time=T_EU_B, rate=m_AF_B, matrix_index=(1, 0)),\n",
    "        msprime.PopulationParametersChange(\n",
    "            time=T_EU_B, initial_size=N_EU0, growth_rate=0, population_id=1),\n",
    "        \n",
    "        # at 51kya, population B merges into AFR\n",
    "        msprime.MassMigration(\n",
    "            time=T_SPLIT, source=1, destination=0, proportion=1.0),\n",
    "        msprime.PopulationParametersChange(\n",
    "            time=T_SPLIT, initial_size=N_B, population_id=1),\n",
    "        \n",
    "        # At 148kya, instantaneous growth in AFR\n",
    "        msprime.PopulationParametersChange(\n",
    "            time=T_AF, initial_size=N_A, population_id=0)\n",
    "    ]\n",
    "    \n",
    "    if(debug):\n",
    "        # Use the demography debugger to print out the demographic history\n",
    "        # that we have just described.\n",
    "        dd = msprime.DemographyDebugger(\n",
    "            population_configurations=population_configurations,\n",
    "            migration_matrix=migration_matrix,\n",
    "            demographic_events=demographic_events)\n",
    "        dd.print_history()\n",
    "    else:\n",
    "        sim = msprime.simulate(population_configurations=population_configurations,\n",
    "                               migration_matrix=migration_matrix, \n",
    "                               demographic_events=demographic_events,\n",
    "                               mutation_rate=mu, \n",
    "                               recombination_rate=phi, \n",
    "                               length=length,\n",
    "                               random_seed=30)\n",
    "    \n",
    "        return sim"
   ]
  },
  {
   "cell_type": "code",
   "execution_count": 1306,
   "metadata": {},
   "outputs": [],
   "source": [
    "def chen_eur_growth(mu=1.5e-8, phi=0, length=1e4, n_afr=0, n_eur=0, debug=False):\n",
    "    # First we set out the maximum likelihood values of the various parameters\n",
    "    # given in Table 1.\n",
    "    # Times are provided in years, so we convert into generations.\n",
    "    generation_time = 25\n",
    "    \n",
    "    # 220kya:\n",
    "    # African population constant with Ne~7300\n",
    "    N_A = 7310\n",
    "    \n",
    "    # 148kya:\n",
    "    # instantaneous growth to Ne~14000\n",
    "    T_AF = 148e3 / generation_time\n",
    "    N_AF = 14474\n",
    "    \n",
    "    N6_EU = 13143\n",
    "    \n",
    "    # 118kya:\n",
    "    # non-AFR pops migrate OOA; bottlenecks to Ne~1800\n",
    "    # migration between AFR occurs\n",
    "    N_B = 1861\n",
    "    T5 = 118e3 / generation_time\n",
    "    T4 = T5\n",
    "    m_AF_B = 15e-5\n",
    "    N5_EU = 62\n",
    "    N4_EU = N6_EU\n",
    "    \n",
    "    # 18kya:\n",
    "    # 2nd EUR bottlenecks to Ne~1000 & starts growing with rate 0.307%\n",
    "    # migration rate slows between AFR-EUR\n",
    "    N_EU0 = 1032\n",
    "    T3 = 18e3 / generation_time\n",
    "    T2 = T3\n",
    "#     m_AF_EU = 2.5e-5\n",
    "    r_EU0 = 0 # 0.00307\n",
    "#     N2_EU = 15829 # N_EU0 / math.exp(-r_EU0 * T_EU_B)\n",
    "    N2_EU = 16178\n",
    "    N2_AF = 26682\n",
    "    N3_EU = 2020\n",
    "    # 5.1kya:\n",
    "    # explosive growth in both AFR & EUR\n",
    "    # Fu 2013  \n",
    "#     T_EG = 5.1e3 / generation_time\n",
    "#     r_EU = 0.0195\n",
    "#     r_AF = 0.0166\n",
    "#     N_EU_start = N_EU1 / math.exp(-r_EU * T_EG)\n",
    "#     m_EG = 0\n",
    "#     N_AF_start = N_AF / math.exp(-r_AF * T_EG)\n",
    "\n",
    "    # Chen 2015\n",
    "#     T1_EU = 7.26e3 / generation_time \n",
    "    T1_EU = 4.95e3 / generation_time\n",
    "    T1_AF = 10.01e3 / generation_time\n",
    "#     r_EU = 0.0149\n",
    "    r_EU = 0.022\n",
    "    r_AF = 0.00735\n",
    "#     N1_EU = 1.2e6 # N_EU1 / math.exp(-r_EU * T_EG)\n",
    "    N1_EU = 1.261e6\n",
    "    m_EG = 0\n",
    "    N1_AF = 5.062e5 # N_AF / math.exp(-r_AF * T_EG)\n",
    "    \n",
    "    # Population IDs correspond to their indexes in the population\n",
    "    # configuration array. Therefore, we have 0=YRI, 1=CEU initially.\n",
    "    population_configurations = [\n",
    "        msprime.PopulationConfiguration(\n",
    "            sample_size=n_afr, initial_size=N1_AF, growth_rate=r_AF),\n",
    "        msprime.PopulationConfiguration(\n",
    "            sample_size=n_eur, initial_size=N1_EU, growth_rate=r_EU)#,\n",
    "    ]\n",
    "\n",
    "    # up to 5.1kya, no migration\n",
    "    migration_matrix = [\n",
    "        [0, 0],\n",
    "        [0, 0],\n",
    "    ]\n",
    "    \n",
    "    demographic_events = [\n",
    "        # at 5.1kya, change to slow growth rate in EUR & stop growth in AFR;\n",
    "        # add migration rate\n",
    "#         msprime.MigrationRateChange(\n",
    "#             time=T_EG, rate=m_AF_EU, matrix_index=(0, 1)),\n",
    "#         msprime.MigrationRateChange(\n",
    "#             time=T_EG, rate=m_AF_EU, matrix_index=(1, 0)),\n",
    "        msprime.PopulationParametersChange(\n",
    "            time=T1_EU, growth_rate=0, initial_size=N2_EU, population_id=1),\n",
    "        msprime.PopulationParametersChange(\n",
    "            time=T1_AF, growth_rate=0, initial_size=N2_AF, population_id=0),\n",
    "        \n",
    "        # at 18kya, bottleneck + instantaneous recovery to smaller Ne\n",
    "        msprime.PopulationParametersChange(\n",
    "            time=T2, initial_size=N3_EU, population_id=1),\n",
    "        msprime.PopulationParametersChange(\n",
    "            time=T3, initial_size=N4_EU, population_id=1),\n",
    "        \n",
    "        # at 118kya, bottleneck + instantaneous recovery to same Ne\n",
    "        msprime.PopulationParametersChange(\n",
    "            time=T4, initial_size=N5_EU, population_id=1),\n",
    "        msprime.PopulationParametersChange(\n",
    "            time=T5, initial_size=N6_EU, population_id=1),\n",
    "#         msprime.PopulationParametersChange(\n",
    "#             time=T6, initial_size=N4_EU, population_id=1),\n",
    "        \n",
    "        \n",
    "#         msprime.MigrationRateChange(\n",
    "#             time=T_EU_B, rate=m_AF_B, matrix_index=(0, 1)),\n",
    "#         msprime.MigrationRateChange(\n",
    "#             time=T_EU_B, rate=m_AF_B, matrix_index=(1, 0)),\n",
    "#         msprime.PopulationParametersChange(\n",
    "#             time=T2, initial_size=N_EU0, growth_rate=0, population_id=1),\n",
    "        \n",
    "        # at 51kya, population B merges into AFR\n",
    "#         msprime.MassMigration(\n",
    "#             time=T_SPLIT, source=1, destination=0, proportion=1.0),\n",
    "#         msprime.PopulationParametersChange(\n",
    "#             time=T_SPLIT, initial_size=N_B, population_id=1),\n",
    "        \n",
    "        # At 148kya, instantaneous growth in AFR\n",
    "        msprime.PopulationParametersChange(\n",
    "            time=T_AF, initial_size=N_A, population_id=0)\n",
    "    ]\n",
    "    \n",
    "    if(debug):\n",
    "        # Use the demography debugger to print out the demographic history\n",
    "        # that we have just described.\n",
    "        dd = msprime.DemographyDebugger(\n",
    "            population_configurations=population_configurations,\n",
    "            migration_matrix=migration_matrix,\n",
    "            demographic_events=demographic_events)\n",
    "        dd.print_history()\n",
    "    else:\n",
    "        sim = msprime.simulate(population_configurations=population_configurations,\n",
    "                               migration_matrix=migration_matrix, \n",
    "                               demographic_events=demographic_events,\n",
    "                               mutation_rate=mu, \n",
    "                               recombination_rate=phi, \n",
    "                               length=length,\n",
    "                               random_seed=30)\n",
    "    \n",
    "        return sim"
   ]
  },
  {
   "cell_type": "code",
   "execution_count": 1274,
   "metadata": {},
   "outputs": [
    {
     "name": "stdout",
     "output_type": "stream",
     "text": [
      "=============================\n",
      "Epoch: 0 -- 290.4 generations\n",
      "=============================\n",
      "     start     end      growth_rate |     0        1    \n",
      "   -------- --------       -------- | -------- -------- \n",
      "0 |5.06e+05 5.99e+04        0.00735 |     0        0    \n",
      "1 | 1.2e+06 1.58e+04         0.0149 |     0        0    \n",
      "\n",
      "Events @ generation 290.4\n",
      "   - Population parameter change for 1: initial_size -> 15829 growth_rate -> 0 \n",
      "=================================\n",
      "Epoch: 290.4 -- 400.4 generations\n",
      "=================================\n",
      "     start     end      growth_rate |     0        1    \n",
      "   -------- --------       -------- | -------- -------- \n",
      "0 |5.99e+04 2.67e+04        0.00735 |     0        0    \n",
      "1 |1.58e+04 1.58e+04              0 |     0        0    \n",
      "\n",
      "Events @ generation 400.4\n",
      "   - Population parameter change for 0: initial_size -> 26682 growth_rate -> 0 \n",
      "=================================\n",
      "Epoch: 400.4 -- 720.0 generations\n",
      "=================================\n",
      "     start     end      growth_rate |     0        1    \n",
      "   -------- --------       -------- | -------- -------- \n",
      "0 |2.67e+04 2.67e+04              0 |     0        0    \n",
      "1 |1.58e+04 1.58e+04              0 |     0        0    \n",
      "\n",
      "Events @ generation 720.0\n",
      "   - Population parameter change for 1: initial_size -> 2020 \n",
      "   - Population parameter change for 1: initial_size -> 13143 \n",
      "==================================\n",
      "Epoch: 720.0 -- 4720.0 generations\n",
      "==================================\n",
      "     start     end      growth_rate |     0        1    \n",
      "   -------- --------       -------- | -------- -------- \n",
      "0 |2.67e+04 2.67e+04              0 |     0        0    \n",
      "1 |1.31e+04 1.31e+04              0 |     0        0    \n",
      "\n",
      "Events @ generation 4720.0\n",
      "   - Population parameter change for 1: initial_size -> 62 \n",
      "   - Population parameter change for 1: initial_size -> 13143 \n",
      "===================================\n",
      "Epoch: 4720.0 -- 5920.0 generations\n",
      "===================================\n",
      "     start     end      growth_rate |     0        1    \n",
      "   -------- --------       -------- | -------- -------- \n",
      "0 |2.67e+04 2.67e+04              0 |     0        0    \n",
      "1 |1.31e+04 1.31e+04              0 |     0        0    \n",
      "\n",
      "Events @ generation 5920.0\n",
      "   - Population parameter change for 0: initial_size -> 7310 \n",
      "================================\n",
      "Epoch: 5920.0 -- inf generations\n",
      "================================\n",
      "     start     end      growth_rate |     0        1    \n",
      "   -------- --------       -------- | -------- -------- \n",
      "0 |7.31e+03 7.31e+03              0 |     0        0    \n",
      "1 |1.31e+04 1.31e+04              0 |     0        0    \n",
      "\n"
     ]
    }
   ],
   "source": [
    "chen_eur_growth(mu=mu, phi=2e-8, length=5e7, n_afr=0, n_eur=2000, debug=True)"
   ]
  },
  {
   "cell_type": "markdown",
   "metadata": {},
   "source": [
    "### testing"
   ]
  },
  {
   "cell_type": "code",
   "execution_count": 1173,
   "metadata": {},
   "outputs": [],
   "source": [
    "# ooa_test = out_of_africa(mu=mu, phi=2e-8, length=5e7, n_afr=0, n_eur=2000)\n",
    "# # ooa_afr = out_of_africa(n_samples, mu, n_afr=n_samples, n_eur=0)\n",
    "# tree_test = ooa_test.first()\n",
    "# # tree_afr = ooa_afr.first()"
   ]
  },
  {
   "cell_type": "code",
   "execution_count": 1178,
   "metadata": {},
   "outputs": [],
   "source": [
    "# mutation_index_test = {k: [] for k in range(2000)}\n",
    "# for variant in ooa_test.variants():\n",
    "#     if np.sum(variant.genotypes)==1:\n",
    "#         sample = int(np.argwhere(variant.genotypes==1))\n",
    "#         mutation_index_test[sample].append(variant.site.position)\n",
    "# #         print(variant.site.position, variant.genotypes)\n",
    "\n",
    "# mutation_index_test[10]"
   ]
  },
  {
   "cell_type": "code",
   "execution_count": 1172,
   "metadata": {},
   "outputs": [],
   "source": [
    "# len(mutation_index_test[10])"
   ]
  },
  {
   "cell_type": "code",
   "execution_count": 1113,
   "metadata": {},
   "outputs": [],
   "source": [
    "# len(ooa_test.variants())"
   ]
  },
  {
   "cell_type": "code",
   "execution_count": 786,
   "metadata": {},
   "outputs": [],
   "source": [
    "# tree_sequence = msprime.simulate(\n",
    "#     population_configurations=[msprime.PopulationConfiguration(\n",
    "#         sample_size=10,\n",
    "#         initial_size=10000, \n",
    "#         growth_rate=0.02)],\n",
    "#     mutation_rate=1.5e-8, \n",
    "#     length=10e6, \n",
    "#     Ne=10000\n",
    "# )"
   ]
  },
  {
   "cell_type": "code",
   "execution_count": 1174,
   "metadata": {},
   "outputs": [],
   "source": [
    "# tree_test = ooa_test.first()"
   ]
  },
  {
   "cell_type": "code",
   "execution_count": 1177,
   "metadata": {},
   "outputs": [],
   "source": [
    "# tree_sequence = msprime.simulate(\n",
    "#     sample_size=5, Ne=1000, length=1e4, recombination_rate=2e-8)\n",
    "\n",
    "# for tree in tree_sequence.trees():\n",
    "#     print(\"-\" * 20)\n",
    "#     print(\"tree {}: interval = {}\".format(tree.index, tree.interval))\n",
    "#     print(tree.branch_length(0), tree.branch_length(1), tree.branch_length(2))\n",
    "#     print(tree.draw(format=\"unicode\"))"
   ]
  },
  {
   "cell_type": "code",
   "execution_count": 1175,
   "metadata": {},
   "outputs": [],
   "source": [
    "# counter = 0\n",
    "# last_branch = 0\n",
    "# for tree in ooa_test.trees():\n",
    "# #     print(\"-\" * 20)\n",
    "# #     print(\"tree {}: interval = {}\".format(tree.index, tree.interval))\n",
    "    \n",
    "#     ext_branch_lengths = {k: [] for k in range(n_samples)}\n",
    "#     for k in range(n_samples):\n",
    "#         ext_branch_lengths[k]={'branch_length': tree.branch_length(k)}\n",
    "                               \n",
    "    \n",
    "#     if ext_branch_lengths[0] != last_branch:\n",
    "#         print(\"-\" * 20)\n",
    "#         print(\"tree {}: interval = {}\".format(tree.index, tree.interval))\n",
    "#         print(ext_branch_lengths[0])\n",
    "#         last_branch = ext_branch_lengths[0]\n",
    "    \n",
    "# #     counter +=1\n",
    "# #     if counter>10:\n",
    "# #         break\n",
    "# #     print(tree.draw(format=\"unicode\"))"
   ]
  },
  {
   "cell_type": "code",
   "execution_count": 1132,
   "metadata": {},
   "outputs": [],
   "source": [
    "# print(tree_test.draw(format=\"unicode\"))"
   ]
  },
  {
   "cell_type": "code",
   "execution_count": 1176,
   "metadata": {},
   "outputs": [],
   "source": [
    "# len(list(tree.sites()))"
   ]
  },
  {
   "cell_type": "code",
   "execution_count": 6,
   "metadata": {},
   "outputs": [],
   "source": [
    "# ext_branch_lengths = []\n",
    "# for i in range(8000):\n",
    "#     ext_branch_lengths.append(tree.branch_length(i))"
   ]
  },
  {
   "cell_type": "code",
   "execution_count": 1151,
   "metadata": {},
   "outputs": [],
   "source": [
    "# np.mean(ext_branch_lengths)"
   ]
  },
  {
   "cell_type": "code",
   "execution_count": 1184,
   "metadata": {},
   "outputs": [],
   "source": [
    "del mutation_index_test"
   ]
  },
  {
   "cell_type": "markdown",
   "metadata": {},
   "source": [
    "###  run with debugger to check parameters"
   ]
  },
  {
   "cell_type": "code",
   "execution_count": 8,
   "metadata": {},
   "outputs": [
    {
     "name": "stdout",
     "output_type": "stream",
     "text": [
      "=============================\n",
      "Epoch: 0 -- 290.4 generations\n",
      "=============================\n",
      "     start     end      growth_rate |     0        1    \n",
      "   -------- --------       -------- | -------- -------- \n",
      "0 |1.22e+05 1.45e+04        0.00735 |     0        0    \n",
      "1 |1.32e+06 1.74e+04         0.0149 |     0        0    \n",
      "\n",
      "Events @ generation 290.4\n",
      "   - Migration rate change for (0, 1) to 2.5e-05\n",
      "   - Migration rate change for (1, 0) to 2.5e-05\n",
      "   - Population parameter change for 1: initial_size -> 17390.058059971307 growth_rate -> 0.00307 \n",
      "   - Population parameter change for 0: growth_rate -> 0 \n",
      "=================================\n",
      "Epoch: 290.4 -- 920.0 generations\n",
      "=================================\n",
      "     start     end      growth_rate |     0        1    \n",
      "   -------- --------       -------- | -------- -------- \n",
      "0 |1.45e+04 1.45e+04              0 |     0     2.5e-05 \n",
      "1 |1.74e+04 2.52e+03        0.00307 |  2.5e-05     0    \n",
      "\n",
      "Events @ generation 920.0\n",
      "   - Migration rate change for (0, 1) to 0.00015\n",
      "   - Migration rate change for (1, 0) to 0.00015\n",
      "   - Population parameter change for 1: initial_size -> 1032 growth_rate -> 0 \n",
      "==================================\n",
      "Epoch: 920.0 -- 2040.0 generations\n",
      "==================================\n",
      "     start     end      growth_rate |     0        1    \n",
      "   -------- --------       -------- | -------- -------- \n",
      "0 |1.45e+04 1.45e+04              0 |     0     0.00015 \n",
      "1 |1.03e+03 1.03e+03              0 |  0.00015     0    \n",
      "\n",
      "Events @ generation 2040.0\n",
      "   - Mass migration: lineages move from 1 to 0 with probability 1.0\n",
      "   - Population parameter change for 1: initial_size -> 1861 \n",
      "===================================\n",
      "Epoch: 2040.0 -- 5920.0 generations\n",
      "===================================\n",
      "     start     end      growth_rate |     0        1    \n",
      "   -------- --------       -------- | -------- -------- \n",
      "0 |1.45e+04 1.45e+04              0 |     0     0.00015 \n",
      "1 |1.86e+03 1.86e+03              0 |  0.00015     0    \n",
      "\n",
      "Events @ generation 5920.0\n",
      "   - Population parameter change for 0: initial_size -> 7310 \n",
      "================================\n",
      "Epoch: 5920.0 -- inf generations\n",
      "================================\n",
      "     start     end      growth_rate |     0        1    \n",
      "   -------- --------       -------- | -------- -------- \n",
      "0 |7.31e+03 7.31e+03              0 |     0     0.00015 \n",
      "1 |1.86e+03 1.86e+03              0 |  0.00015     0    \n",
      "\n"
     ]
    }
   ],
   "source": [
    "n_samples = 2000 # number of haploid samples\n",
    "mu = 1.5e-8 # mutation rate per generation\n",
    "phi = 2e-8 # recombination rate per generation\n",
    "length = 5e7 # length of chromosome in base pairs\n",
    "\n",
    "out_of_africa(mu=mu, length=5e7, n_afr=0, n_eur=n_samples, debug=True)"
   ]
  },
  {
   "cell_type": "markdown",
   "metadata": {},
   "source": [
    "### Run simulation and get tree"
   ]
  },
  {
   "cell_type": "code",
   "execution_count": 5,
   "metadata": {},
   "outputs": [
    {
     "ename": "NameError",
     "evalue": "name 'chen_eur_growth' is not defined",
     "output_type": "error",
     "traceback": [
      "\u001b[0;31m---------------------------------------------------------------------------\u001b[0m",
      "\u001b[0;31mNameError\u001b[0m                                 Traceback (most recent call last)",
      "\u001b[0;32m<ipython-input-5-bf2fdba0abd2>\u001b[0m in \u001b[0;36m<module>\u001b[0;34m()\u001b[0m\n\u001b[0;32m----> 1\u001b[0;31m \u001b[0mooa_eur\u001b[0m \u001b[0;34m=\u001b[0m \u001b[0mchen_eur_growth\u001b[0m\u001b[0;34m(\u001b[0m\u001b[0mmu\u001b[0m\u001b[0;34m=\u001b[0m\u001b[0;36m1.8e-8\u001b[0m\u001b[0;34m,\u001b[0m \u001b[0mlength\u001b[0m\u001b[0;34m=\u001b[0m\u001b[0;36m5e7\u001b[0m\u001b[0;34m,\u001b[0m \u001b[0mn_afr\u001b[0m\u001b[0;34m=\u001b[0m\u001b[0;36m0\u001b[0m\u001b[0;34m,\u001b[0m \u001b[0mn_eur\u001b[0m\u001b[0;34m=\u001b[0m\u001b[0;36m2000\u001b[0m\u001b[0;34m)\u001b[0m\u001b[0;34m\u001b[0m\u001b[0m\n\u001b[0m\u001b[1;32m      2\u001b[0m \u001b[0mooa_eur_rc\u001b[0m \u001b[0;34m=\u001b[0m \u001b[0mchen_eur_growth\u001b[0m\u001b[0;34m(\u001b[0m\u001b[0mmu\u001b[0m\u001b[0;34m=\u001b[0m\u001b[0;36m1.8e-8\u001b[0m\u001b[0;34m,\u001b[0m \u001b[0mphi\u001b[0m\u001b[0;34m=\u001b[0m\u001b[0;36m1.2e-8\u001b[0m\u001b[0;34m,\u001b[0m \u001b[0mlength\u001b[0m\u001b[0;34m=\u001b[0m\u001b[0;36m5e7\u001b[0m\u001b[0;34m,\u001b[0m \u001b[0mn_afr\u001b[0m\u001b[0;34m=\u001b[0m\u001b[0;36m0\u001b[0m\u001b[0;34m,\u001b[0m \u001b[0mn_eur\u001b[0m\u001b[0;34m=\u001b[0m\u001b[0;36m2000\u001b[0m\u001b[0;34m)\u001b[0m\u001b[0;34m\u001b[0m\u001b[0m\n\u001b[1;32m      3\u001b[0m \u001b[0mtree_eur\u001b[0m \u001b[0;34m=\u001b[0m \u001b[0mooa_eur\u001b[0m\u001b[0;34m.\u001b[0m\u001b[0mfirst\u001b[0m\u001b[0;34m(\u001b[0m\u001b[0;34m)\u001b[0m\u001b[0;34m\u001b[0m\u001b[0m\n\u001b[1;32m      4\u001b[0m \u001b[0;34m\u001b[0m\u001b[0m\n\u001b[1;32m      5\u001b[0m \u001b[0;31m# ooa_afr = out_of_africa(mu=mu, length=5e7, n_afr=2000, n_eur=0)\u001b[0m\u001b[0;34m\u001b[0m\u001b[0;34m\u001b[0m\u001b[0m\n",
      "\u001b[0;31mNameError\u001b[0m: name 'chen_eur_growth' is not defined"
     ]
    }
   ],
   "source": [
    "ooa_eur = chen_eur_growth(mu=1.8e-8, length=5e7, n_afr=0, n_eur=2000)\n",
    "ooa_eur_rc = chen_eur_growth(mu=1.8e-8, phi=1.2e-8, length=5e7, n_afr=0, n_eur=2000)\n",
    "tree_eur = ooa_eur.first()\n",
    "\n",
    "# ooa_afr = out_of_africa(mu=mu, length=5e7, n_afr=2000, n_eur=0)\n",
    "# ooa_eur_rc = out_of_africa(mu=mu, phi=2e-8, length=5e7, n_afr=2000, n_eur=0)\n",
    "# tree_afr = ooa_afr.first()"
   ]
  },
  {
   "cell_type": "code",
   "execution_count": 9,
   "metadata": {},
   "outputs": [],
   "source": [
    "ooa_eur = out_of_africa(mu=mu, length=5e7, n_afr=0, n_eur=2000)\n",
    "tree_eur = ooa_eur.first()"
   ]
  },
  {
   "cell_type": "code",
   "execution_count": 41,
   "metadata": {},
   "outputs": [],
   "source": [
    "ooa_eur = out_of_africa(mu=1e-8, length=5e7, n_afr=0, n_eur=2000)\n",
    "tree_eur = ooa_eur.first()"
   ]
  },
  {
   "cell_type": "code",
   "execution_count": 49,
   "metadata": {},
   "outputs": [],
   "source": [
    "ooa_eur = out_of_africa(mu=1e-8, length=5e7, n_afr=2000, n_eur=0)\n",
    "tree_eur = ooa_eur.first()"
   ]
  },
  {
   "cell_type": "markdown",
   "metadata": {},
   "source": [
    "## Build index of mutation positions "
   ]
  },
  {
   "cell_type": "markdown",
   "metadata": {},
   "source": [
    "#### per haploid sample"
   ]
  },
  {
   "cell_type": "code",
   "execution_count": 50,
   "metadata": {},
   "outputs": [],
   "source": [
    "mutation_index = {k: [] for k in range(n_samples)}\n",
    "\n",
    "for site in tree_eur.sites():\n",
    "    for mutation in site.mutations:\n",
    "        if mutation.node<n_samples:\n",
    "            mutation_index[mutation.node].append(site.position)\n",
    "#             print(\"Mutation @ position {:.2f} over node {}\".format(\n",
    "#                 site.position, mutation.node))"
   ]
  },
  {
   "cell_type": "markdown",
   "metadata": {},
   "source": [
    "#### per haploid sample with recombination"
   ]
  },
  {
   "cell_type": "code",
   "execution_count": 1325,
   "metadata": {},
   "outputs": [],
   "source": [
    "mutation_index_rc = {k: [] for k in range(n_samples)}\n",
    "for variant in ooa_eur_rc.variants():\n",
    "    if np.sum(variant.genotypes)==1:\n",
    "        sample = int(np.argwhere(variant.genotypes==1))\n",
    "        mutation_index_rc[sample].append(variant.site.position)\n",
    "#         print(variant.site.position, variant.genotypes)\n",
    "\n",
    "# mutation_index_test[10]"
   ]
  },
  {
   "cell_type": "code",
   "execution_count": 1190,
   "metadata": {},
   "outputs": [],
   "source": [
    "# len(mutation_index_rc.keys())"
   ]
  },
  {
   "cell_type": "markdown",
   "metadata": {},
   "source": [
    "#### per diploid sample"
   ]
  },
  {
   "cell_type": "markdown",
   "metadata": {},
   "source": [
    "##### Create random pairs of indices for when we combine 2N haploid samples into N diploid samples"
   ]
  },
  {
   "cell_type": "code",
   "execution_count": 51,
   "metadata": {},
   "outputs": [],
   "source": [
    "nhap = int(n_samples/2)\n",
    "\n",
    "r1=list(range(nhap))\n",
    "r2=list(range(nhap))\n",
    "pairs=r1+r2\n",
    "import random\n",
    "random.seed(30)\n",
    "shuffle(pairs)\n",
    "\n",
    "hap_ids = list(range(n_samples))\n",
    "dip_ids = pairs\n",
    "dip_index = dict(zip(hap_ids, dip_ids))"
   ]
  },
  {
   "cell_type": "code",
   "execution_count": 52,
   "metadata": {},
   "outputs": [],
   "source": [
    "# Function to group haploid singletons by diploid sample\n",
    "\n",
    "def HapToDip(mu_index, dip_index):\n",
    "    nhap = len(mu_index.keys())\n",
    "    ndip = int(nhap/2)\n",
    "    mu_index_dip = {k: [] for k in range(ndip)}\n",
    "\n",
    "    for k in range(nhap):\n",
    "        dip_id = dip_index[k]\n",
    "        mu_index_dip[dip_id].extend(mu_index[k])\n",
    "\n",
    "    for k in range(ndip):\n",
    "        mu_index_dip[k].sort()\n",
    "        \n",
    "    return mu_index_dip"
   ]
  },
  {
   "cell_type": "code",
   "execution_count": 53,
   "metadata": {},
   "outputs": [],
   "source": [
    "mutation_index_dip = HapToDip(mutation_index, dip_index)"
   ]
  },
  {
   "cell_type": "code",
   "execution_count": 12,
   "metadata": {},
   "outputs": [
    {
     "ename": "NameError",
     "evalue": "name 'mutation_index_rc' is not defined",
     "output_type": "error",
     "traceback": [
      "\u001b[0;31m---------------------------------------------------------------------------\u001b[0m",
      "\u001b[0;31mNameError\u001b[0m                                 Traceback (most recent call last)",
      "\u001b[0;32m<ipython-input-12-fca010617047>\u001b[0m in \u001b[0;36m<module>\u001b[0;34m()\u001b[0m\n\u001b[0;32m----> 1\u001b[0;31m \u001b[0mmutation_index_dip_rc\u001b[0m \u001b[0;34m=\u001b[0m \u001b[0mHapToDip\u001b[0m\u001b[0;34m(\u001b[0m\u001b[0mmutation_index_rc\u001b[0m\u001b[0;34m,\u001b[0m \u001b[0mdip_index\u001b[0m\u001b[0;34m)\u001b[0m\u001b[0;34m\u001b[0m\u001b[0m\n\u001b[0m",
      "\u001b[0;31mNameError\u001b[0m: name 'mutation_index_rc' is not defined"
     ]
    }
   ],
   "source": [
    "mutation_index_dip_rc = HapToDip(mutation_index_rc, dip_index)"
   ]
  },
  {
   "cell_type": "code",
   "execution_count": 1198,
   "metadata": {},
   "outputs": [],
   "source": [
    "# mutation_index_dip[0][1:4]"
   ]
  },
  {
   "cell_type": "code",
   "execution_count": 657,
   "metadata": {},
   "outputs": [],
   "source": [
    "# Confirm mutations on first external branch are ordered properly\n",
    "# mutation_index[0]"
   ]
  },
  {
   "cell_type": "code",
   "execution_count": 1125,
   "metadata": {},
   "outputs": [],
   "source": [
    "# mutation_index_dip = {k: [] for k in range(1000)}\n",
    "\n",
    "# for k in range(2000):\n",
    "#     dip_id = dip_index[k]\n",
    "#     mutation_index_dip[dip_id].extend(mutation_index_test[k])\n",
    "    \n",
    "# for k in range(1000):\n",
    "#     mutation_index_dip[k].sort()"
   ]
  },
  {
   "cell_type": "code",
   "execution_count": 1179,
   "metadata": {},
   "outputs": [],
   "source": [
    "# len(dip_ids)"
   ]
  },
  {
   "cell_type": "code",
   "execution_count": 1167,
   "metadata": {},
   "outputs": [],
   "source": [
    "# len([item for sublist in mutation_index_dip.values() for item in sublist])"
   ]
  },
  {
   "cell_type": "markdown",
   "metadata": {},
   "source": [
    "## Build index of inter-singleton distances"
   ]
  },
  {
   "cell_type": "code",
   "execution_count": 54,
   "metadata": {},
   "outputs": [],
   "source": [
    "# get dataframe with inter-singleton distances per sample\n",
    "\n",
    "def calcDists(index):\n",
    "    dists_dict = {k: [] for k in range(len(index.keys()))}\n",
    "    for k in index:\n",
    "        dists_dict[k].extend([j-i for i, j in zip(index[k][:-1], index[k][1:])])\n",
    "        \n",
    "    dists_df = pd.concat({k: pd.Series(v) for k, v in dists_dict.items()})\n",
    "    dists_df2 = pd.DataFrame(dists_df)\n",
    "    dists_df2.reset_index(inplace=True)\n",
    "    dists_df2.columns = [\"ind_dip\", \"site_id\", \"dist\"]\n",
    "    return dists_df2"
   ]
  },
  {
   "cell_type": "markdown",
   "metadata": {},
   "source": [
    " #### per haploid sample"
   ]
  },
  {
   "cell_type": "code",
   "execution_count": 55,
   "metadata": {},
   "outputs": [],
   "source": [
    "df2_hap = calcDists(mutation_index)"
   ]
  },
  {
   "cell_type": "code",
   "execution_count": 16,
   "metadata": {},
   "outputs": [
    {
     "data": {
      "application/vnd.jupyter.widget-view+json": {
       "model_id": "00acfc19a33849da99efe4414bb1c3f5",
       "version_major": 2,
       "version_minor": 0
      }
     },
     "metadata": {},
     "output_type": "display_data"
    }
   ],
   "source": [
    "df2_hap.head(10)"
   ]
  },
  {
   "cell_type": "code",
   "execution_count": 19,
   "metadata": {},
   "outputs": [
    {
     "data": {
      "application/vnd.jupyter.widget-view+json": {
       "model_id": "78eb45d929ed43c48aa8e5ef4dc1bc4d",
       "version_major": 2,
       "version_minor": 0
      }
     },
     "metadata": {},
     "output_type": "display_data"
    }
   ],
   "source": [
    "df2_hap[1:10]"
   ]
  },
  {
   "cell_type": "code",
   "execution_count": 1333,
   "metadata": {},
   "outputs": [],
   "source": [
    "df2_hap_rc = calcDists(mutation_index_rc)"
   ]
  },
  {
   "cell_type": "code",
   "execution_count": 1334,
   "metadata": {},
   "outputs": [
    {
     "data": {
      "text/html": [
       "<div>\n",
       "<style scoped>\n",
       "    .dataframe tbody tr th:only-of-type {\n",
       "        vertical-align: middle;\n",
       "    }\n",
       "\n",
       "    .dataframe tbody tr th {\n",
       "        vertical-align: top;\n",
       "    }\n",
       "\n",
       "    .dataframe thead th {\n",
       "        text-align: right;\n",
       "    }\n",
       "</style>\n",
       "<table border=\"1\" class=\"dataframe\">\n",
       "  <thead>\n",
       "    <tr style=\"text-align: right;\">\n",
       "      <th></th>\n",
       "      <th>ind_dip</th>\n",
       "      <th>site_id</th>\n",
       "      <th>dist</th>\n",
       "    </tr>\n",
       "  </thead>\n",
       "  <tbody>\n",
       "    <tr>\n",
       "      <th>0</th>\n",
       "      <td>0</td>\n",
       "      <td>0</td>\n",
       "      <td>1.485673e+05</td>\n",
       "    </tr>\n",
       "    <tr>\n",
       "      <th>1</th>\n",
       "      <td>0</td>\n",
       "      <td>1</td>\n",
       "      <td>1.363929e+06</td>\n",
       "    </tr>\n",
       "    <tr>\n",
       "      <th>2</th>\n",
       "      <td>0</td>\n",
       "      <td>2</td>\n",
       "      <td>7.024163e+05</td>\n",
       "    </tr>\n",
       "    <tr>\n",
       "      <th>3</th>\n",
       "      <td>0</td>\n",
       "      <td>3</td>\n",
       "      <td>4.428466e+05</td>\n",
       "    </tr>\n",
       "    <tr>\n",
       "      <th>4</th>\n",
       "      <td>0</td>\n",
       "      <td>4</td>\n",
       "      <td>4.215245e+05</td>\n",
       "    </tr>\n",
       "    <tr>\n",
       "      <th>5</th>\n",
       "      <td>0</td>\n",
       "      <td>5</td>\n",
       "      <td>1.932227e+05</td>\n",
       "    </tr>\n",
       "    <tr>\n",
       "      <th>6</th>\n",
       "      <td>0</td>\n",
       "      <td>6</td>\n",
       "      <td>3.379980e+05</td>\n",
       "    </tr>\n",
       "    <tr>\n",
       "      <th>7</th>\n",
       "      <td>0</td>\n",
       "      <td>7</td>\n",
       "      <td>5.945203e+05</td>\n",
       "    </tr>\n",
       "    <tr>\n",
       "      <th>8</th>\n",
       "      <td>0</td>\n",
       "      <td>8</td>\n",
       "      <td>2.144653e+05</td>\n",
       "    </tr>\n",
       "    <tr>\n",
       "      <th>9</th>\n",
       "      <td>0</td>\n",
       "      <td>9</td>\n",
       "      <td>6.174538e+05</td>\n",
       "    </tr>\n",
       "  </tbody>\n",
       "</table>\n",
       "</div>"
      ],
      "text/plain": [
       "   ind_dip  site_id          dist\n",
       "0        0        0  1.485673e+05\n",
       "1        0        1  1.363929e+06\n",
       "2        0        2  7.024163e+05\n",
       "3        0        3  4.428466e+05\n",
       "4        0        4  4.215245e+05\n",
       "5        0        5  1.932227e+05\n",
       "6        0        6  3.379980e+05\n",
       "7        0        7  5.945203e+05\n",
       "8        0        8  2.144653e+05\n",
       "9        0        9  6.174538e+05"
      ]
     },
     "execution_count": 1334,
     "metadata": {},
     "output_type": "execute_result"
    }
   ],
   "source": [
    "df2_hap.head(10)"
   ]
  },
  {
   "cell_type": "markdown",
   "metadata": {},
   "source": [
    " #### per diploid sample"
   ]
  },
  {
   "cell_type": "code",
   "execution_count": 56,
   "metadata": {},
   "outputs": [],
   "source": [
    "df2_dip = calcDists(mutation_index_dip)"
   ]
  },
  {
   "cell_type": "code",
   "execution_count": 1336,
   "metadata": {},
   "outputs": [],
   "source": [
    "df2_dip_rc = calcDists(mutation_index_dip_rc)"
   ]
  },
  {
   "cell_type": "code",
   "execution_count": 1337,
   "metadata": {},
   "outputs": [],
   "source": [
    "df2_dip.to_csv(\"/mnt/norbert/home/jedidiah/projects/ERV_mutation_hotspots/data/sim_dists_dip.txt\", sep=\"\\t\", index=False)\n",
    "df2_dip_rc.to_csv(\"/mnt/norbert/home/jedidiah/projects/ERV_mutation_hotspots/data/sim_dists_dip_rc.txt\", sep=\"\\t\", index=False)"
   ]
  },
  {
   "cell_type": "code",
   "execution_count": 39,
   "metadata": {},
   "outputs": [
    {
     "data": {
      "text/plain": [
       "581886"
      ]
     },
     "execution_count": 39,
     "metadata": {},
     "output_type": "execute_result"
    }
   ],
   "source": [
    "df2_dip.size"
   ]
  },
  {
   "cell_type": "code",
   "execution_count": 57,
   "metadata": {},
   "outputs": [
    {
     "data": {
      "text/plain": [
       "0.07064555420219244"
      ]
     },
     "execution_count": 57,
     "metadata": {},
     "output_type": "execute_result"
    }
   ],
   "source": [
    "# df2_dip[dist<20000].size\n",
    "df2_dip[df2_dip['dist']<20000].size/df2_dip.size"
   ]
  },
  {
   "cell_type": "code",
   "execution_count": 29,
   "metadata": {},
   "outputs": [
    {
     "data": {
      "text/plain": [
       "0.12195959048210676"
      ]
     },
     "execution_count": 29,
     "metadata": {},
     "output_type": "execute_result"
    }
   ],
   "source": [
    "106605/874101"
   ]
  },
  {
   "cell_type": "code",
   "execution_count": 1128,
   "metadata": {},
   "outputs": [],
   "source": [
    "# dists_hap = {k: [] for k in range(n_samples)}\n",
    "# for k in mutation_index_test:\n",
    "#     dists_hap[k].extend([j-i for i, j in zip(mutation_index_test[k][:-1], mutation_index_test[k][1:])])"
   ]
  },
  {
   "cell_type": "code",
   "execution_count": 1129,
   "metadata": {},
   "outputs": [
    {
     "data": {
      "text/html": [
       "<div>\n",
       "<style scoped>\n",
       "    .dataframe tbody tr th:only-of-type {\n",
       "        vertical-align: middle;\n",
       "    }\n",
       "\n",
       "    .dataframe tbody tr th {\n",
       "        vertical-align: top;\n",
       "    }\n",
       "\n",
       "    .dataframe thead th {\n",
       "        text-align: right;\n",
       "    }\n",
       "</style>\n",
       "<table border=\"1\" class=\"dataframe\">\n",
       "  <thead>\n",
       "    <tr style=\"text-align: right;\">\n",
       "      <th></th>\n",
       "      <th>ind_hap</th>\n",
       "      <th>site_id</th>\n",
       "      <th>dist</th>\n",
       "    </tr>\n",
       "  </thead>\n",
       "  <tbody>\n",
       "    <tr>\n",
       "      <th>0</th>\n",
       "      <td>0</td>\n",
       "      <td>0</td>\n",
       "      <td>539899.969661</td>\n",
       "    </tr>\n",
       "    <tr>\n",
       "      <th>1</th>\n",
       "      <td>0</td>\n",
       "      <td>1</td>\n",
       "      <td>56593.762544</td>\n",
       "    </tr>\n",
       "    <tr>\n",
       "      <th>2</th>\n",
       "      <td>0</td>\n",
       "      <td>2</td>\n",
       "      <td>94610.431630</td>\n",
       "    </tr>\n",
       "    <tr>\n",
       "      <th>3</th>\n",
       "      <td>0</td>\n",
       "      <td>3</td>\n",
       "      <td>21046.390985</td>\n",
       "    </tr>\n",
       "    <tr>\n",
       "      <th>4</th>\n",
       "      <td>0</td>\n",
       "      <td>4</td>\n",
       "      <td>4645.249291</td>\n",
       "    </tr>\n",
       "    <tr>\n",
       "      <th>5</th>\n",
       "      <td>0</td>\n",
       "      <td>5</td>\n",
       "      <td>55777.504535</td>\n",
       "    </tr>\n",
       "    <tr>\n",
       "      <th>6</th>\n",
       "      <td>0</td>\n",
       "      <td>6</td>\n",
       "      <td>721375.317242</td>\n",
       "    </tr>\n",
       "    <tr>\n",
       "      <th>7</th>\n",
       "      <td>0</td>\n",
       "      <td>7</td>\n",
       "      <td>204891.280158</td>\n",
       "    </tr>\n",
       "    <tr>\n",
       "      <th>8</th>\n",
       "      <td>0</td>\n",
       "      <td>8</td>\n",
       "      <td>641582.402418</td>\n",
       "    </tr>\n",
       "    <tr>\n",
       "      <th>9</th>\n",
       "      <td>0</td>\n",
       "      <td>9</td>\n",
       "      <td>707945.523979</td>\n",
       "    </tr>\n",
       "  </tbody>\n",
       "</table>\n",
       "</div>"
      ],
      "text/plain": [
       "   ind_hap  site_id           dist\n",
       "0        0        0  539899.969661\n",
       "1        0        1   56593.762544\n",
       "2        0        2   94610.431630\n",
       "3        0        3   21046.390985\n",
       "4        0        4    4645.249291\n",
       "5        0        5   55777.504535\n",
       "6        0        6  721375.317242\n",
       "7        0        7  204891.280158\n",
       "8        0        8  641582.402418\n",
       "9        0        9  707945.523979"
      ]
     },
     "execution_count": 1129,
     "metadata": {},
     "output_type": "execute_result"
    }
   ],
   "source": [
    "# df_hap = pd.concat({k: pd.Series(v) for k, v in dists_hap.items()})\n",
    "# df2_hap = pd.DataFrame(df_hap)\n",
    "# df2_hap.reset_index(inplace=True)\n",
    "# df2_hap.columns = [\"ind_hap\", \"site_id\", \"dist\"]\n",
    "# df2_hap.head(10)\n",
    "# # len(df2_hap)"
   ]
  },
  {
   "cell_type": "code",
   "execution_count": 1130,
   "metadata": {},
   "outputs": [],
   "source": [
    "# dists_dip = {k: [] for k in range(1000)}\n",
    "# for k in mutation_index_dip:\n",
    "#     dists_dip[k].extend([j-i for i, j in zip(mutation_index_dip[k][:-1], mutation_index_dip[k][1:])])"
   ]
  },
  {
   "cell_type": "code",
   "execution_count": 1131,
   "metadata": {},
   "outputs": [
    {
     "data": {
      "text/html": [
       "<div>\n",
       "<style scoped>\n",
       "    .dataframe tbody tr th:only-of-type {\n",
       "        vertical-align: middle;\n",
       "    }\n",
       "\n",
       "    .dataframe tbody tr th {\n",
       "        vertical-align: top;\n",
       "    }\n",
       "\n",
       "    .dataframe thead th {\n",
       "        text-align: right;\n",
       "    }\n",
       "</style>\n",
       "<table border=\"1\" class=\"dataframe\">\n",
       "  <thead>\n",
       "    <tr style=\"text-align: right;\">\n",
       "      <th></th>\n",
       "      <th>ind_dip</th>\n",
       "      <th>site_id</th>\n",
       "      <th>dist</th>\n",
       "    </tr>\n",
       "  </thead>\n",
       "  <tbody>\n",
       "    <tr>\n",
       "      <th>0</th>\n",
       "      <td>0</td>\n",
       "      <td>0</td>\n",
       "      <td>27726.581285</td>\n",
       "    </tr>\n",
       "    <tr>\n",
       "      <th>1</th>\n",
       "      <td>0</td>\n",
       "      <td>1</td>\n",
       "      <td>197288.318891</td>\n",
       "    </tr>\n",
       "    <tr>\n",
       "      <th>2</th>\n",
       "      <td>0</td>\n",
       "      <td>2</td>\n",
       "      <td>115276.617473</td>\n",
       "    </tr>\n",
       "    <tr>\n",
       "      <th>3</th>\n",
       "      <td>0</td>\n",
       "      <td>3</td>\n",
       "      <td>77412.157861</td>\n",
       "    </tr>\n",
       "    <tr>\n",
       "      <th>4</th>\n",
       "      <td>0</td>\n",
       "      <td>4</td>\n",
       "      <td>305081.065273</td>\n",
       "    </tr>\n",
       "    <tr>\n",
       "      <th>5</th>\n",
       "      <td>0</td>\n",
       "      <td>5</td>\n",
       "      <td>480021.442547</td>\n",
       "    </tr>\n",
       "    <tr>\n",
       "      <th>6</th>\n",
       "      <td>0</td>\n",
       "      <td>6</td>\n",
       "      <td>138381.153854</td>\n",
       "    </tr>\n",
       "    <tr>\n",
       "      <th>7</th>\n",
       "      <td>0</td>\n",
       "      <td>7</td>\n",
       "      <td>38845.840619</td>\n",
       "    </tr>\n",
       "    <tr>\n",
       "      <th>8</th>\n",
       "      <td>0</td>\n",
       "      <td>8</td>\n",
       "      <td>240304.270018</td>\n",
       "    </tr>\n",
       "    <tr>\n",
       "      <th>9</th>\n",
       "      <td>0</td>\n",
       "      <td>9</td>\n",
       "      <td>247723.595146</td>\n",
       "    </tr>\n",
       "  </tbody>\n",
       "</table>\n",
       "</div>"
      ],
      "text/plain": [
       "   ind_dip  site_id           dist\n",
       "0        0        0   27726.581285\n",
       "1        0        1  197288.318891\n",
       "2        0        2  115276.617473\n",
       "3        0        3   77412.157861\n",
       "4        0        4  305081.065273\n",
       "5        0        5  480021.442547\n",
       "6        0        6  138381.153854\n",
       "7        0        7   38845.840619\n",
       "8        0        8  240304.270018\n",
       "9        0        9  247723.595146"
      ]
     },
     "execution_count": 1131,
     "metadata": {},
     "output_type": "execute_result"
    }
   ],
   "source": [
    "# df_dip = pd.concat({k: pd.Series(v) for k, v in dists_dip.items()})\n",
    "# df2_dip = pd.DataFrame(df_dip)\n",
    "# df2_dip.reset_index(inplace=True)\n",
    "# df2_dip.columns = [\"ind_dip\", \"site_id\", \"dist\"]\n",
    "# df2_dip.head(10)"
   ]
  },
  {
   "cell_type": "code",
   "execution_count": 1170,
   "metadata": {},
   "outputs": [],
   "source": [
    "# len(mutation_index_dip.keys())"
   ]
  },
  {
   "cell_type": "code",
   "execution_count": 1171,
   "metadata": {},
   "outputs": [],
   "source": [
    "# len(df2_dip)"
   ]
  },
  {
   "cell_type": "markdown",
   "metadata": {},
   "source": [
    "## Build index of external branch lengths (for models w/o recombination)"
   ]
  },
  {
   "cell_type": "code",
   "execution_count": 635,
   "metadata": {},
   "outputs": [],
   "source": [
    "ext_branch_lengths = {k: [] for k in range(n_samples)}\n",
    "for k in range(n_samples):\n",
    "    ext_branch_lengths[k]={'branch_length': tree_eur.branch_length(k),\n",
    "                          'mutation_counts': len(mutation_index[k])}\n",
    "#     print(tree.branch_length(i))"
   ]
  },
  {
   "cell_type": "code",
   "execution_count": 649,
   "metadata": {},
   "outputs": [],
   "source": [
    "ebl_df = pd.DataFrame.from_dict(ext_branch_lengths, orient='index')\n",
    "# ebl_df = pd.DataFrame.from_dict(ext_branch_lengths)\n",
    "ebl_df.reset_index(inplace=True)\n",
    "ebl_df.rename(columns={'index':'ind_hap'}, inplace=True)"
   ]
  },
  {
   "cell_type": "markdown",
   "metadata": {},
   "source": [
    "#### DEPRECATED: Group the 2N branches into N diploid samples, and compute the total branch lengths, weighted by the number of mutations on each of the two branches"
   ]
  },
  {
   "cell_type": "code",
   "execution_count": 651,
   "metadata": {},
   "outputs": [
    {
     "data": {
      "text/html": [
       "<div>\n",
       "<style scoped>\n",
       "    .dataframe tbody tr th:only-of-type {\n",
       "        vertical-align: middle;\n",
       "    }\n",
       "\n",
       "    .dataframe tbody tr th {\n",
       "        vertical-align: top;\n",
       "    }\n",
       "\n",
       "    .dataframe thead th {\n",
       "        text-align: right;\n",
       "    }\n",
       "</style>\n",
       "<table border=\"1\" class=\"dataframe\">\n",
       "  <thead>\n",
       "    <tr style=\"text-align: right;\">\n",
       "      <th></th>\n",
       "      <th>ind_hap</th>\n",
       "      <th>branch_length</th>\n",
       "      <th>mutation_counts</th>\n",
       "      <th>ind_dip</th>\n",
       "      <th>wt</th>\n",
       "      <th>branch_length_wa</th>\n",
       "    </tr>\n",
       "  </thead>\n",
       "  <tbody>\n",
       "    <tr>\n",
       "      <th>867</th>\n",
       "      <td>867</td>\n",
       "      <td>193.759860</td>\n",
       "      <td>306</td>\n",
       "      <td>0</td>\n",
       "      <td>0.857143</td>\n",
       "      <td>166.07988</td>\n",
       "    </tr>\n",
       "    <tr>\n",
       "      <th>1625</th>\n",
       "      <td>1625</td>\n",
       "      <td>33.951051</td>\n",
       "      <td>51</td>\n",
       "      <td>0</td>\n",
       "      <td>0.142857</td>\n",
       "      <td>4.85015</td>\n",
       "    </tr>\n",
       "  </tbody>\n",
       "</table>\n",
       "</div>"
      ],
      "text/plain": [
       "      ind_hap  branch_length  mutation_counts  ind_dip        wt  \\\n",
       "867       867     193.759860              306        0  0.857143   \n",
       "1625     1625      33.951051               51        0  0.142857   \n",
       "\n",
       "      branch_length_wa  \n",
       "867          166.07988  \n",
       "1625           4.85015  "
      ]
     },
     "execution_count": 651,
     "metadata": {},
     "output_type": "execute_result"
    }
   ],
   "source": [
    "ebl_df['ind_dip']=pd.Series(pairs).values\n",
    "# ebl_df['wt']df.value / g.value.transform(\"sum\") * df.wt\n",
    "# ebl_df.rename(columns={'gdp':'log(gdp)'}, inplace=True)\n",
    "g = ebl_df.groupby('ind_dip')\n",
    "ebl_df['wt'] = ebl_df.mutation_counts / g.mutation_counts.transform(\"sum\")\n",
    "# ebl_df['wa'] = ebl_df.branch_length / g.branch_length.transform(\"sum\") * ebl_df.wt\n",
    "ebl_df['branch_length_wa'] = ebl_df.branch_length * ebl_df.wt\n",
    "# ebl_df.head(10)\n",
    "# ebl_df.groupby('ind_dip').wa.transform(\"sum\").loc[ebl_df['ind_dip']==410]\n",
    "ebl_df.loc[ebl_df['ind_dip']==0]\n",
    "\n"
   ]
  },
  {
   "cell_type": "markdown",
   "metadata": {},
   "source": [
    "#### For diploid sample: sum the external branch lengths of the two chromosomes"
   ]
  },
  {
   "cell_type": "code",
   "execution_count": 624,
   "metadata": {},
   "outputs": [
    {
     "data": {
      "text/html": [
       "<div>\n",
       "<style scoped>\n",
       "    .dataframe tbody tr th:only-of-type {\n",
       "        vertical-align: middle;\n",
       "    }\n",
       "\n",
       "    .dataframe tbody tr th {\n",
       "        vertical-align: top;\n",
       "    }\n",
       "\n",
       "    .dataframe thead th {\n",
       "        text-align: right;\n",
       "    }\n",
       "</style>\n",
       "<table border=\"1\" class=\"dataframe\">\n",
       "  <thead>\n",
       "    <tr style=\"text-align: right;\">\n",
       "      <th></th>\n",
       "      <th>ind_dip</th>\n",
       "      <th>branch_length</th>\n",
       "    </tr>\n",
       "  </thead>\n",
       "  <tbody>\n",
       "    <tr>\n",
       "      <th>410</th>\n",
       "      <td>410</td>\n",
       "      <td>524.063943</td>\n",
       "    </tr>\n",
       "  </tbody>\n",
       "</table>\n",
       "</div>"
      ],
      "text/plain": [
       "     ind_dip  branch_length\n",
       "410      410     524.063943"
      ]
     },
     "execution_count": 624,
     "metadata": {},
     "output_type": "execute_result"
    }
   ],
   "source": [
    "# get weighted average of branch lengths in each diploid individual, \n",
    "# weighted by the number of mutations on each of the two branches\n",
    "ebl_df_dip = pd.DataFrame(ebl_df.sort_values(by='ind_dip').groupby('ind_dip').branch_length.sum())\n",
    "ebl_df_dip.reset_index(inplace=True)\n",
    "ebl_df_dip.loc[ebl_df_dip['ind_dip']==410]\n",
    "# ebl_df_dip.head(20)"
   ]
  },
  {
   "cell_type": "markdown",
   "metadata": {},
   "source": [
    "## Merge intervals data frame with branch lengths data frame"
   ]
  },
  {
   "cell_type": "markdown",
   "metadata": {},
   "source": [
    "#### Haploid"
   ]
  },
  {
   "cell_type": "code",
   "execution_count": 678,
   "metadata": {},
   "outputs": [
    {
     "data": {
      "text/html": [
       "<div>\n",
       "<style scoped>\n",
       "    .dataframe tbody tr th:only-of-type {\n",
       "        vertical-align: middle;\n",
       "    }\n",
       "\n",
       "    .dataframe tbody tr th {\n",
       "        vertical-align: top;\n",
       "    }\n",
       "\n",
       "    .dataframe thead th {\n",
       "        text-align: right;\n",
       "    }\n",
       "</style>\n",
       "<table border=\"1\" class=\"dataframe\">\n",
       "  <thead>\n",
       "    <tr style=\"text-align: right;\">\n",
       "      <th></th>\n",
       "      <th>ind_hap</th>\n",
       "      <th>branch_length</th>\n",
       "      <th>site_id</th>\n",
       "      <th>dist</th>\n",
       "      <th>mutation_counts</th>\n",
       "      <th>ind_dip</th>\n",
       "      <th>wt</th>\n",
       "      <th>branch_length_wa</th>\n",
       "      <th>cl1</th>\n",
       "      <th>cl2</th>\n",
       "    </tr>\n",
       "  </thead>\n",
       "  <tbody>\n",
       "    <tr>\n",
       "      <th>0</th>\n",
       "      <td>0</td>\n",
       "      <td>203.659389</td>\n",
       "      <td>144.0</td>\n",
       "      <td>345381.753677</td>\n",
       "      <td>290.0</td>\n",
       "      <td>410.0</td>\n",
       "      <td>0.389262</td>\n",
       "      <td>79.276809</td>\n",
       "      <td>0.003460</td>\n",
       "      <td>0.069204</td>\n",
       "    </tr>\n",
       "    <tr>\n",
       "      <th>1</th>\n",
       "      <td>1</td>\n",
       "      <td>154.521566</td>\n",
       "      <td>105.0</td>\n",
       "      <td>472302.364971</td>\n",
       "      <td>212.0</td>\n",
       "      <td>406.0</td>\n",
       "      <td>0.324159</td>\n",
       "      <td>50.089560</td>\n",
       "      <td>0.000000</td>\n",
       "      <td>0.028436</td>\n",
       "    </tr>\n",
       "    <tr>\n",
       "      <th>2</th>\n",
       "      <td>2</td>\n",
       "      <td>90.657267</td>\n",
       "      <td>62.0</td>\n",
       "      <td>771479.200944</td>\n",
       "      <td>126.0</td>\n",
       "      <td>363.0</td>\n",
       "      <td>0.360000</td>\n",
       "      <td>32.636616</td>\n",
       "      <td>0.000000</td>\n",
       "      <td>0.016000</td>\n",
       "    </tr>\n",
       "    <tr>\n",
       "      <th>3</th>\n",
       "      <td>3</td>\n",
       "      <td>193.083486</td>\n",
       "      <td>146.5</td>\n",
       "      <td>338087.524097</td>\n",
       "      <td>295.0</td>\n",
       "      <td>10.0</td>\n",
       "      <td>0.551402</td>\n",
       "      <td>106.466595</td>\n",
       "      <td>0.000000</td>\n",
       "      <td>0.061224</td>\n",
       "    </tr>\n",
       "    <tr>\n",
       "      <th>4</th>\n",
       "      <td>4</td>\n",
       "      <td>125.187099</td>\n",
       "      <td>105.0</td>\n",
       "      <td>468835.751725</td>\n",
       "      <td>212.0</td>\n",
       "      <td>610.0</td>\n",
       "      <td>0.509615</td>\n",
       "      <td>63.797272</td>\n",
       "      <td>0.004739</td>\n",
       "      <td>0.042654</td>\n",
       "    </tr>\n",
       "    <tr>\n",
       "      <th>5</th>\n",
       "      <td>5</td>\n",
       "      <td>83.558921</td>\n",
       "      <td>72.5</td>\n",
       "      <td>675435.418467</td>\n",
       "      <td>147.0</td>\n",
       "      <td>220.0</td>\n",
       "      <td>0.742424</td>\n",
       "      <td>62.036169</td>\n",
       "      <td>0.000000</td>\n",
       "      <td>0.027397</td>\n",
       "    </tr>\n",
       "    <tr>\n",
       "      <th>6</th>\n",
       "      <td>6</td>\n",
       "      <td>197.793507</td>\n",
       "      <td>159.5</td>\n",
       "      <td>311720.450409</td>\n",
       "      <td>321.0</td>\n",
       "      <td>581.0</td>\n",
       "      <td>0.476261</td>\n",
       "      <td>94.201359</td>\n",
       "      <td>0.000000</td>\n",
       "      <td>0.068750</td>\n",
       "    </tr>\n",
       "    <tr>\n",
       "      <th>7</th>\n",
       "      <td>7</td>\n",
       "      <td>164.313558</td>\n",
       "      <td>122.5</td>\n",
       "      <td>401061.287385</td>\n",
       "      <td>247.0</td>\n",
       "      <td>255.0</td>\n",
       "      <td>0.600973</td>\n",
       "      <td>98.748051</td>\n",
       "      <td>0.000000</td>\n",
       "      <td>0.036585</td>\n",
       "    </tr>\n",
       "    <tr>\n",
       "      <th>8</th>\n",
       "      <td>8</td>\n",
       "      <td>153.269473</td>\n",
       "      <td>114.0</td>\n",
       "      <td>433097.964999</td>\n",
       "      <td>230.0</td>\n",
       "      <td>131.0</td>\n",
       "      <td>0.410714</td>\n",
       "      <td>62.949962</td>\n",
       "      <td>0.000000</td>\n",
       "      <td>0.043668</td>\n",
       "    </tr>\n",
       "    <tr>\n",
       "      <th>9</th>\n",
       "      <td>9</td>\n",
       "      <td>250.948283</td>\n",
       "      <td>198.0</td>\n",
       "      <td>251476.136177</td>\n",
       "      <td>398.0</td>\n",
       "      <td>451.0</td>\n",
       "      <td>0.603945</td>\n",
       "      <td>151.559054</td>\n",
       "      <td>0.000000</td>\n",
       "      <td>0.068010</td>\n",
       "    </tr>\n",
       "  </tbody>\n",
       "</table>\n",
       "</div>"
      ],
      "text/plain": [
       "   ind_hap  branch_length  site_id           dist  mutation_counts  ind_dip  \\\n",
       "0        0     203.659389    144.0  345381.753677            290.0    410.0   \n",
       "1        1     154.521566    105.0  472302.364971            212.0    406.0   \n",
       "2        2      90.657267     62.0  771479.200944            126.0    363.0   \n",
       "3        3     193.083486    146.5  338087.524097            295.0     10.0   \n",
       "4        4     125.187099    105.0  468835.751725            212.0    610.0   \n",
       "5        5      83.558921     72.5  675435.418467            147.0    220.0   \n",
       "6        6     197.793507    159.5  311720.450409            321.0    581.0   \n",
       "7        7     164.313558    122.5  401061.287385            247.0    255.0   \n",
       "8        8     153.269473    114.0  433097.964999            230.0    131.0   \n",
       "9        9     250.948283    198.0  251476.136177            398.0    451.0   \n",
       "\n",
       "         wt  branch_length_wa       cl1       cl2  \n",
       "0  0.389262         79.276809  0.003460  0.069204  \n",
       "1  0.324159         50.089560  0.000000  0.028436  \n",
       "2  0.360000         32.636616  0.000000  0.016000  \n",
       "3  0.551402        106.466595  0.000000  0.061224  \n",
       "4  0.509615         63.797272  0.004739  0.042654  \n",
       "5  0.742424         62.036169  0.000000  0.027397  \n",
       "6  0.476261         94.201359  0.000000  0.068750  \n",
       "7  0.600973         98.748051  0.000000  0.036585  \n",
       "8  0.410714         62.949962  0.000000  0.043668  \n",
       "9  0.603945        151.559054  0.000000  0.068010  "
      ]
     },
     "execution_count": 678,
     "metadata": {},
     "output_type": "execute_result"
    }
   ],
   "source": [
    "df_c_hap = pd.merge(df2_hap, ebl_df, how='left', on='ind_hap')\n",
    "\n",
    "# df_test = pd.DataFrame(df_c.head(200))\n",
    "df_c_hap['cl1'] = np.where(df_c_hap['dist']<100, True, False)\n",
    "df_c_hap['cl2'] = np.where((df_c_hap['dist']>100) & (df_c_hap['dist']<20000), True, False)\n",
    "df_c_hap_agg = df_c_hap.groupby(['ind_hap', 'branch_length']).mean()\n",
    "df_c_hap_agg.reset_index(inplace=True)\n",
    "# df_c_agg = df_c_agg[df_c_agg['clustered']>0]\n",
    "# df_c_agg = df_c_agg[df_c_agg['branch_length']<1900]\n",
    "df_c_hap_agg.head(10)\n",
    "\n",
    "# df_c_hap.head(10)"
   ]
  },
  {
   "cell_type": "markdown",
   "metadata": {},
   "source": [
    "#### Diploid"
   ]
  },
  {
   "cell_type": "code",
   "execution_count": 1065,
   "metadata": {},
   "outputs": [
    {
     "data": {
      "text/html": [
       "<div>\n",
       "<style scoped>\n",
       "    .dataframe tbody tr th:only-of-type {\n",
       "        vertical-align: middle;\n",
       "    }\n",
       "\n",
       "    .dataframe tbody tr th {\n",
       "        vertical-align: top;\n",
       "    }\n",
       "\n",
       "    .dataframe thead th {\n",
       "        text-align: right;\n",
       "    }\n",
       "</style>\n",
       "<table border=\"1\" class=\"dataframe\">\n",
       "  <thead>\n",
       "    <tr style=\"text-align: right;\">\n",
       "      <th></th>\n",
       "      <th>index</th>\n",
       "      <th>ind_dip</th>\n",
       "      <th>cl1</th>\n",
       "      <th>cl2</th>\n",
       "      <th>branch_length</th>\n",
       "    </tr>\n",
       "  </thead>\n",
       "  <tbody>\n",
       "    <tr>\n",
       "      <th>0</th>\n",
       "      <td>0</td>\n",
       "      <td>0</td>\n",
       "      <td>0.000498</td>\n",
       "      <td>0.075965</td>\n",
       "      <td>227.710911</td>\n",
       "    </tr>\n",
       "    <tr>\n",
       "      <th>1</th>\n",
       "      <td>1</td>\n",
       "      <td>1</td>\n",
       "      <td>0.000000</td>\n",
       "      <td>0.064594</td>\n",
       "      <td>389.121197</td>\n",
       "    </tr>\n",
       "    <tr>\n",
       "      <th>2</th>\n",
       "      <td>2</td>\n",
       "      <td>2</td>\n",
       "      <td>0.000833</td>\n",
       "      <td>0.087464</td>\n",
       "      <td>267.113368</td>\n",
       "    </tr>\n",
       "    <tr>\n",
       "      <th>3</th>\n",
       "      <td>3</td>\n",
       "      <td>3</td>\n",
       "      <td>0.000864</td>\n",
       "      <td>0.089378</td>\n",
       "      <td>314.458521</td>\n",
       "    </tr>\n",
       "    <tr>\n",
       "      <th>4</th>\n",
       "      <td>4</td>\n",
       "      <td>4</td>\n",
       "      <td>0.000000</td>\n",
       "      <td>0.059438</td>\n",
       "      <td>175.671812</td>\n",
       "    </tr>\n",
       "    <tr>\n",
       "      <th>5</th>\n",
       "      <td>5</td>\n",
       "      <td>5</td>\n",
       "      <td>0.000370</td>\n",
       "      <td>0.101962</td>\n",
       "      <td>144.849699</td>\n",
       "    </tr>\n",
       "    <tr>\n",
       "      <th>6</th>\n",
       "      <td>6</td>\n",
       "      <td>6</td>\n",
       "      <td>0.000000</td>\n",
       "      <td>0.047909</td>\n",
       "      <td>507.452973</td>\n",
       "    </tr>\n",
       "    <tr>\n",
       "      <th>7</th>\n",
       "      <td>7</td>\n",
       "      <td>7</td>\n",
       "      <td>0.000829</td>\n",
       "      <td>0.089101</td>\n",
       "      <td>338.914767</td>\n",
       "    </tr>\n",
       "    <tr>\n",
       "      <th>8</th>\n",
       "      <td>8</td>\n",
       "      <td>8</td>\n",
       "      <td>0.000579</td>\n",
       "      <td>0.066319</td>\n",
       "      <td>607.445186</td>\n",
       "    </tr>\n",
       "    <tr>\n",
       "      <th>9</th>\n",
       "      <td>9</td>\n",
       "      <td>9</td>\n",
       "      <td>0.000606</td>\n",
       "      <td>0.092690</td>\n",
       "      <td>362.617259</td>\n",
       "    </tr>\n",
       "  </tbody>\n",
       "</table>\n",
       "</div>"
      ],
      "text/plain": [
       "   index  ind_dip       cl1       cl2  branch_length\n",
       "0      0        0  0.000498  0.075965     227.710911\n",
       "1      1        1  0.000000  0.064594     389.121197\n",
       "2      2        2  0.000833  0.087464     267.113368\n",
       "3      3        3  0.000864  0.089378     314.458521\n",
       "4      4        4  0.000000  0.059438     175.671812\n",
       "5      5        5  0.000370  0.101962     144.849699\n",
       "6      6        6  0.000000  0.047909     507.452973\n",
       "7      7        7  0.000829  0.089101     338.914767\n",
       "8      8        8  0.000579  0.066319     607.445186\n",
       "9      9        9  0.000606  0.092690     362.617259"
      ]
     },
     "execution_count": 1065,
     "metadata": {},
     "output_type": "execute_result"
    }
   ],
   "source": [
    "df_c = pd.merge(df2_dip, ebl_df_dip, how='left', on='ind_dip')\n",
    "# df_c[]\n",
    "# df_c[df_c['ind_dip']==0]\n",
    "# df_test = pd.DataFrame(df_c.head(200))\n",
    "df_c['cl1'] = np.where(df_c['dist']<100, True, False)\n",
    "df_c['cl2'] = np.where((df_c['dist']>100) & (df_c['dist']<20000), True, False)\n",
    "\n",
    "aggregations = {\n",
    "    'cl1': 'mean',\n",
    "    'cl2': 'mean',\n",
    "    'branch_length': 'max'\n",
    "}\n",
    "\n",
    "df_c_agg = df_c.groupby(['ind_dip'], as_index=False).agg(aggregations)\n",
    "df_c_agg.reset_index(inplace=True)\n",
    "# df_c_agg['wt'] = ebl_df.mutation_counts / g.mutation_counts.transform(\"sum\")\n",
    "# df_c_agg = df_c_agg[df_c_agg['clustered']>0]\n",
    "# df_c_agg = df_c_agg[df_c_agg['branch_length']<1900]\n",
    "df_c_agg.head(10)"
   ]
  },
  {
   "cell_type": "markdown",
   "metadata": {},
   "source": [
    "### Plot CDF of inter-singleton distances (diploid data)"
   ]
  },
  {
   "cell_type": "markdown",
   "metadata": {},
   "source": [
    "#### Matplotlib"
   ]
  },
  {
   "cell_type": "code",
   "execution_count": 1210,
   "metadata": {},
   "outputs": [],
   "source": [
    "# fig, ax = plt.subplots(facecolor='white')\n",
    "\n",
    "# x = df_c.loc[df_c['ind_dip']<10]['dist'].values\n",
    "# sim_dists = df_c['dist'].values\n",
    "sim_dists = df2_dip['dist'].values\n",
    "sim_dists.sort()\n",
    "\n",
    "sim_dists_rc = df2_dip_rc['dist'].values\n",
    "sim_dists_rc.sort()\n",
    "\n",
    "\n",
    "num_bins = 50000\n",
    "# b10"
   ]
  },
  {
   "cell_type": "code",
   "execution_count": 1229,
   "metadata": {},
   "outputs": [],
   "source": [
    "b10bins = np.multiply(x.reshape(7,1), np.arange(1,11)).flatten()\n",
    "\n",
    "sim_counts, sim_bin_edges = np.histogram(sim_dists, bins=b10bins, normed=True)\n",
    "sim_counts_rc, sim_bin_edges_rc = np.histogram(sim_dists_rc, bins=b10bins, normed=True)\n",
    "# sim_counts = sim_counts[1::5]\n",
    "# sim_bin_edges = sim_bin_edges[1::5]\n",
    "sim_cdf = np.cumsum(sim_counts)\n",
    "sim_cdf_rc = np.cumsum(sim_counts_rc)\n",
    "# plt.plot(sim_bin_edges[1:], sim_cdf/sim_cdf[-1])"
   ]
  },
  {
   "cell_type": "code",
   "execution_count": 1212,
   "metadata": {},
   "outputs": [
    {
     "data": {
      "text/plain": [
       "array([       1,        2,        3,        4,        5,        6,\n",
       "              7,        8,        9,       10,       10,       20,\n",
       "             30,       40,       50,       60,       70,       80,\n",
       "             90,      100,      100,      200,      300,      400,\n",
       "            500,      600,      700,      800,      900,     1000,\n",
       "           1000,     2000,     3000,     4000,     5000,     6000,\n",
       "           7000,     8000,     9000,    10000,    10000,    20000,\n",
       "          30000,    40000,    50000,    60000,    70000,    80000,\n",
       "          90000,   100000,   100000,   200000,   300000,   400000,\n",
       "         500000,   600000,   700000,   800000,   900000,  1000000,\n",
       "        1000000,  2000000,  3000000,  4000000,  5000000,  6000000,\n",
       "        7000000,  8000000,  9000000, 10000000])"
      ]
     },
     "execution_count": 1212,
     "metadata": {},
     "output_type": "execute_result"
    }
   ],
   "source": [
    "b10bins"
   ]
  },
  {
   "cell_type": "code",
   "execution_count": 1225,
   "metadata": {},
   "outputs": [
    {
     "data": {
      "text/plain": [
       "DescribeResult(nobs=218514, minmax=(1.7345882952213287, 10158576.187677681), mean=226347.65996071434, variance=69114726263.36687, skewness=3.7975456177029674, kurtosis=43.43822438009587)"
      ]
     },
     "execution_count": 1225,
     "metadata": {},
     "output_type": "execute_result"
    }
   ],
   "source": [
    "from scipy import stats\n",
    "stats.describe(sim_dists)"
   ]
  },
  {
   "cell_type": "code",
   "execution_count": 1228,
   "metadata": {},
   "outputs": [
    {
     "data": {
      "text/plain": [
       "DescribeResult(nobs=219724, minmax=(0.12388594914227724, 8052620.538741935), mean=225232.8606784507, variance=61399461042.96518, skewness=2.6164602630974487, kurtosis=15.186805114266711)"
      ]
     },
     "execution_count": 1228,
     "metadata": {},
     "output_type": "execute_result"
    }
   ],
   "source": [
    "stats.describe(sim_dists_rc)"
   ]
  },
  {
   "cell_type": "code",
   "execution_count": 1233,
   "metadata": {},
   "outputs": [],
   "source": [
    "# exp_sites = np.random.exponential(230000,400)\n",
    "# exp_sites.sort()\n",
    "\n",
    "exp_dists = np.random.exponential(226347,218514)\n",
    "exp_dists.sort()\n",
    "# exp_sites"
   ]
  },
  {
   "cell_type": "code",
   "execution_count": 1234,
   "metadata": {},
   "outputs": [],
   "source": [
    "# exp_dists = []\n",
    "# exp_dists.extend([j-i for i, j in zip(exp_sites[:-1], exp_sites[1:])])\n",
    "# exp_dists.sort()\n",
    "\n",
    "exp_counts, exp_bin_edges = np.histogram(exp_dists, bins=b10bins, normed=True)\n",
    "# exp_counts = exp_counts[1::5]\n",
    "# exp_bin_edges = exp_bin_edges[1::5]\n",
    "exp_cdf = np.cumsum(exp_counts)"
   ]
  },
  {
   "cell_type": "markdown",
   "metadata": {},
   "source": [
    "#### Plotly"
   ]
  },
  {
   "cell_type": "code",
   "execution_count": 1241,
   "metadata": {},
   "outputs": [
    {
     "data": {
      "text/html": [
       "<iframe id=\"igraph\" scrolling=\"no\" style=\"border:none;\" seamless=\"seamless\" src=\"https://plot.ly/~jed.e.carlson/71.embed\" height=\"525px\" width=\"100%\"></iframe>"
      ],
      "text/plain": [
       "<plotly.tools.PlotlyDisplay object>"
      ]
     },
     "execution_count": 1241,
     "metadata": {},
     "output_type": "execute_result"
    }
   ],
   "source": [
    "# cumsum = np.cumsum(x)\n",
    "layout = go.Layout(\n",
    "    xaxis=dict(\n",
    "        title='Distance',\n",
    "        range=[1,6],\n",
    "        titlefont=dict(\n",
    "#             family='Courier New, monospace',\n",
    "            size=18,\n",
    "            color='#7f7f7f'\n",
    "        ),\n",
    "        type=\"log\"\n",
    "    ),\n",
    "    \n",
    "    yaxis=dict(\n",
    "#         autorange=True\n",
    "#         type=\"log\"\n",
    "#         range=[0,0.4]\n",
    "    )\n",
    ")\n",
    "\n",
    "tr1 = go.Scatter(\n",
    "    x = exp_bin_edges[1:], \n",
    "    y = exp_cdf/exp_cdf[-1],\n",
    "    name = \"naive exponential\",\n",
    "    marker = dict(color = 'rgb(10, 25, 120)')\n",
    ")\n",
    "\n",
    "tr2 = go.Scatter(\n",
    "    x = sim_bin_edges[1:], \n",
    "    y = sim_cdf/sim_cdf[-1],\n",
    "    name = \"simulated\",\n",
    "    marker = dict(color = 'rgb(150, 25, 120)')\n",
    ")\n",
    "\n",
    "tr3 = go.Scatter(\n",
    "    x = sim_bin_edges_rc[1:], \n",
    "    y = sim_cdf_rc/sim_cdf_rc[-1],\n",
    "    name = \"simulated with recombination\",\n",
    "    marker = dict(color = 'rgb(50, 25, 20)')\n",
    ")\n",
    "\n",
    "# tr1 = go.Histogram(x=x, histnorm='probability')\n",
    "data = [tr1, tr2, tr3]\n",
    "fig = go.Figure(data=data, layout=layout)\n",
    "py.iplot(fig, filename='dist_cdf')"
   ]
  },
  {
   "cell_type": "markdown",
   "metadata": {},
   "source": [
    "### Plot branch length vs # singletons <20kb apart"
   ]
  },
  {
   "cell_type": "code",
   "execution_count": 1066,
   "metadata": {},
   "outputs": [],
   "source": [
    "layout = go.Layout(\n",
    "    xaxis=dict(\n",
    "        title='External Branch Length (generations)',\n",
    "        titlefont=dict(\n",
    "#             family='Courier New, monospace',\n",
    "            size=18,\n",
    "            color='#7f7f7f'\n",
    "        )#,\n",
    "#         type=\"log\"\n",
    "    ),\n",
    "    yaxis=dict(\n",
    "        title='Fraction of intervals <20kb',\n",
    "        titlefont=dict(\n",
    "#             family='Courier New, monospace',\n",
    "            size=18,\n",
    "            color='#7f7f7f'\n",
    "        )#,\n",
    "#         type=\"log\"\n",
    "    )\n",
    ")"
   ]
  },
  {
   "cell_type": "markdown",
   "metadata": {},
   "source": [
    "#### Haploid"
   ]
  },
  {
   "cell_type": "code",
   "execution_count": 1057,
   "metadata": {},
   "outputs": [
    {
     "data": {
      "text/html": [
       "<iframe id=\"igraph\" scrolling=\"no\" style=\"border:none;\" seamless=\"seamless\" src=\"https://plot.ly/~jed.e.carlson/11.embed\" height=\"525px\" width=\"100%\"></iframe>"
      ],
      "text/plain": [
       "<plotly.tools.PlotlyDisplay object>"
      ]
     },
     "execution_count": 1057,
     "metadata": {},
     "output_type": "execute_result"
    }
   ],
   "source": [
    "# Create a trace\n",
    "trace = go.Scatter(\n",
    "    x = df_c_hap_agg.branch_length,\n",
    "    y = df_c_hap_agg.cl2,\n",
    "    mode = 'markers',\n",
    "#     text= df_c_hap_agg.site_id,\n",
    "    marker= dict(\n",
    "        size= 6,\n",
    "        line= dict(width=1),\n",
    "        opacity= 0.6\n",
    "    )\n",
    ")\n",
    "\n",
    "data = [trace]\n",
    "fig = go.Figure(data=data, layout=layout)\n",
    "py.iplot(fig, filename='ext_branch_length_vs_n_hap')"
   ]
  },
  {
   "cell_type": "markdown",
   "metadata": {},
   "source": [
    "#### Diploid"
   ]
  },
  {
   "cell_type": "code",
   "execution_count": 1067,
   "metadata": {},
   "outputs": [
    {
     "data": {
      "text/html": [
       "<iframe id=\"igraph\" scrolling=\"no\" style=\"border:none;\" seamless=\"seamless\" src=\"https://plot.ly/~jed.e.carlson/9.embed\" height=\"525px\" width=\"100%\"></iframe>"
      ],
      "text/plain": [
       "<plotly.tools.PlotlyDisplay object>"
      ]
     },
     "execution_count": 1067,
     "metadata": {},
     "output_type": "execute_result"
    }
   ],
   "source": [
    "# Create a trace\n",
    "trace = go.Scatter(\n",
    "    x = df_c_agg.branch_length,\n",
    "    y = df_c_agg.cl2,\n",
    "    mode = 'markers',\n",
    "#     text= df_c_agg.site_id,\n",
    "    marker= dict(\n",
    "        size= 6,\n",
    "        line= dict(width=1),\n",
    "        opacity= 0.6\n",
    "    )\n",
    ")\n",
    "\n",
    "data = [trace]\n",
    "fig = go.Figure(data=data, layout=layout)\n",
    "py.iplot(fig, filename='ext_branch_length_vs_n')"
   ]
  },
  {
   "cell_type": "code",
   "execution_count": 1035,
   "metadata": {},
   "outputs": [
    {
     "data": {
      "text/html": [
       "<div>\n",
       "<style scoped>\n",
       "    .dataframe tbody tr th:only-of-type {\n",
       "        vertical-align: middle;\n",
       "    }\n",
       "\n",
       "    .dataframe tbody tr th {\n",
       "        vertical-align: top;\n",
       "    }\n",
       "\n",
       "    .dataframe thead th {\n",
       "        text-align: right;\n",
       "    }\n",
       "</style>\n",
       "<table border=\"1\" class=\"dataframe\">\n",
       "  <thead>\n",
       "    <tr style=\"text-align: right;\">\n",
       "      <th></th>\n",
       "      <th>ind_dip</th>\n",
       "      <th>branch_length</th>\n",
       "      <th>site_id</th>\n",
       "      <th>dist</th>\n",
       "      <th>cl1</th>\n",
       "      <th>cl2</th>\n",
       "    </tr>\n",
       "  </thead>\n",
       "  <tbody>\n",
       "    <tr>\n",
       "      <th>0</th>\n",
       "      <td>0</td>\n",
       "      <td>227.710911</td>\n",
       "      <td>4014</td>\n",
       "      <td>2.442391e+06</td>\n",
       "      <td>True</td>\n",
       "      <td>True</td>\n",
       "    </tr>\n",
       "    <tr>\n",
       "      <th>1</th>\n",
       "      <td>1</td>\n",
       "      <td>389.121197</td>\n",
       "      <td>3312</td>\n",
       "      <td>3.005274e+06</td>\n",
       "      <td>False</td>\n",
       "      <td>True</td>\n",
       "    </tr>\n",
       "    <tr>\n",
       "      <th>2</th>\n",
       "      <td>2</td>\n",
       "      <td>267.113368</td>\n",
       "      <td>4801</td>\n",
       "      <td>1.619195e+06</td>\n",
       "      <td>True</td>\n",
       "      <td>True</td>\n",
       "    </tr>\n",
       "    <tr>\n",
       "      <th>3</th>\n",
       "      <td>3</td>\n",
       "      <td>314.458521</td>\n",
       "      <td>4631</td>\n",
       "      <td>2.099762e+06</td>\n",
       "      <td>True</td>\n",
       "      <td>True</td>\n",
       "    </tr>\n",
       "    <tr>\n",
       "      <th>4</th>\n",
       "      <td>4</td>\n",
       "      <td>175.671812</td>\n",
       "      <td>3061</td>\n",
       "      <td>3.285773e+06</td>\n",
       "      <td>False</td>\n",
       "      <td>True</td>\n",
       "    </tr>\n",
       "    <tr>\n",
       "      <th>5</th>\n",
       "      <td>5</td>\n",
       "      <td>144.849699</td>\n",
       "      <td>5403</td>\n",
       "      <td>1.444376e+06</td>\n",
       "      <td>True</td>\n",
       "      <td>True</td>\n",
       "    </tr>\n",
       "    <tr>\n",
       "      <th>6</th>\n",
       "      <td>6</td>\n",
       "      <td>507.452973</td>\n",
       "      <td>2295</td>\n",
       "      <td>3.841548e+06</td>\n",
       "      <td>False</td>\n",
       "      <td>True</td>\n",
       "    </tr>\n",
       "    <tr>\n",
       "      <th>7</th>\n",
       "      <td>7</td>\n",
       "      <td>338.914767</td>\n",
       "      <td>4825</td>\n",
       "      <td>1.583423e+06</td>\n",
       "      <td>True</td>\n",
       "      <td>True</td>\n",
       "    </tr>\n",
       "    <tr>\n",
       "      <th>8</th>\n",
       "      <td>8</td>\n",
       "      <td>607.445186</td>\n",
       "      <td>3452</td>\n",
       "      <td>2.529253e+06</td>\n",
       "      <td>True</td>\n",
       "      <td>True</td>\n",
       "    </tr>\n",
       "    <tr>\n",
       "      <th>9</th>\n",
       "      <td>9</td>\n",
       "      <td>362.617259</td>\n",
       "      <td>4951</td>\n",
       "      <td>1.481148e+06</td>\n",
       "      <td>True</td>\n",
       "      <td>True</td>\n",
       "    </tr>\n",
       "    <tr>\n",
       "      <th>10</th>\n",
       "      <td>10</td>\n",
       "      <td>347.319999</td>\n",
       "      <td>8505</td>\n",
       "      <td>1.482668e+06</td>\n",
       "      <td>True</td>\n",
       "      <td>True</td>\n",
       "    </tr>\n",
       "    <tr>\n",
       "      <th>11</th>\n",
       "      <td>11</td>\n",
       "      <td>142.077580</td>\n",
       "      <td>5753</td>\n",
       "      <td>1.794051e+06</td>\n",
       "      <td>True</td>\n",
       "      <td>True</td>\n",
       "    </tr>\n",
       "    <tr>\n",
       "      <th>12</th>\n",
       "      <td>12</td>\n",
       "      <td>437.847810</td>\n",
       "      <td>3042</td>\n",
       "      <td>2.178536e+06</td>\n",
       "      <td>True</td>\n",
       "      <td>True</td>\n",
       "    </tr>\n",
       "    <tr>\n",
       "      <th>13</th>\n",
       "      <td>13</td>\n",
       "      <td>442.992253</td>\n",
       "      <td>4238</td>\n",
       "      <td>2.217131e+06</td>\n",
       "      <td>True</td>\n",
       "      <td>True</td>\n",
       "    </tr>\n",
       "    <tr>\n",
       "      <th>14</th>\n",
       "      <td>14</td>\n",
       "      <td>454.986795</td>\n",
       "      <td>2772</td>\n",
       "      <td>2.855863e+06</td>\n",
       "      <td>True</td>\n",
       "      <td>True</td>\n",
       "    </tr>\n",
       "    <tr>\n",
       "      <th>15</th>\n",
       "      <td>15</td>\n",
       "      <td>280.254013</td>\n",
       "      <td>3981</td>\n",
       "      <td>2.039566e+06</td>\n",
       "      <td>True</td>\n",
       "      <td>True</td>\n",
       "    </tr>\n",
       "    <tr>\n",
       "      <th>16</th>\n",
       "      <td>16</td>\n",
       "      <td>378.875117</td>\n",
       "      <td>4397</td>\n",
       "      <td>1.998346e+06</td>\n",
       "      <td>True</td>\n",
       "      <td>True</td>\n",
       "    </tr>\n",
       "    <tr>\n",
       "      <th>17</th>\n",
       "      <td>17</td>\n",
       "      <td>360.455869</td>\n",
       "      <td>4724</td>\n",
       "      <td>1.721669e+06</td>\n",
       "      <td>True</td>\n",
       "      <td>True</td>\n",
       "    </tr>\n",
       "    <tr>\n",
       "      <th>18</th>\n",
       "      <td>18</td>\n",
       "      <td>285.443910</td>\n",
       "      <td>5087</td>\n",
       "      <td>2.127355e+06</td>\n",
       "      <td>True</td>\n",
       "      <td>True</td>\n",
       "    </tr>\n",
       "    <tr>\n",
       "      <th>19</th>\n",
       "      <td>19</td>\n",
       "      <td>495.595949</td>\n",
       "      <td>4485</td>\n",
       "      <td>2.177357e+06</td>\n",
       "      <td>True</td>\n",
       "      <td>True</td>\n",
       "    </tr>\n",
       "  </tbody>\n",
       "</table>\n",
       "</div>"
      ],
      "text/plain": [
       "    ind_dip  branch_length  site_id          dist    cl1   cl2\n",
       "0         0     227.710911     4014  2.442391e+06   True  True\n",
       "1         1     389.121197     3312  3.005274e+06  False  True\n",
       "2         2     267.113368     4801  1.619195e+06   True  True\n",
       "3         3     314.458521     4631  2.099762e+06   True  True\n",
       "4         4     175.671812     3061  3.285773e+06  False  True\n",
       "5         5     144.849699     5403  1.444376e+06   True  True\n",
       "6         6     507.452973     2295  3.841548e+06  False  True\n",
       "7         7     338.914767     4825  1.583423e+06   True  True\n",
       "8         8     607.445186     3452  2.529253e+06   True  True\n",
       "9         9     362.617259     4951  1.481148e+06   True  True\n",
       "10       10     347.319999     8505  1.482668e+06   True  True\n",
       "11       11     142.077580     5753  1.794051e+06   True  True\n",
       "12       12     437.847810     3042  2.178536e+06   True  True\n",
       "13       13     442.992253     4238  2.217131e+06   True  True\n",
       "14       14     454.986795     2772  2.855863e+06   True  True\n",
       "15       15     280.254013     3981  2.039566e+06   True  True\n",
       "16       16     378.875117     4397  1.998346e+06   True  True\n",
       "17       17     360.455869     4724  1.721669e+06   True  True\n",
       "18       18     285.443910     5087  2.127355e+06   True  True\n",
       "19       19     495.595949     4485  2.177357e+06   True  True"
      ]
     },
     "execution_count": 1035,
     "metadata": {},
     "output_type": "execute_result"
    }
   ],
   "source": [
    "# df_c_agg.head(20)"
   ]
  },
  {
   "cell_type": "markdown",
   "metadata": {},
   "source": [
    "#### Get correlation between % clustered and branch length for haploid sample"
   ]
  },
  {
   "cell_type": "code",
   "execution_count": 1058,
   "metadata": {},
   "outputs": [
    {
     "data": {
      "text/html": [
       "<div>\n",
       "<style scoped>\n",
       "    .dataframe tbody tr th:only-of-type {\n",
       "        vertical-align: middle;\n",
       "    }\n",
       "\n",
       "    .dataframe tbody tr th {\n",
       "        vertical-align: top;\n",
       "    }\n",
       "\n",
       "    .dataframe thead th {\n",
       "        text-align: right;\n",
       "    }\n",
       "</style>\n",
       "<table border=\"1\" class=\"dataframe\">\n",
       "  <thead>\n",
       "    <tr style=\"text-align: right;\">\n",
       "      <th></th>\n",
       "      <th>index</th>\n",
       "      <th>ind_dip</th>\n",
       "      <th>branch_length</th>\n",
       "      <th>cl1</th>\n",
       "      <th>cl2</th>\n",
       "      <th>dist</th>\n",
       "    </tr>\n",
       "  </thead>\n",
       "  <tbody>\n",
       "    <tr>\n",
       "      <th>index</th>\n",
       "      <td>1.000000</td>\n",
       "      <td>1.000000</td>\n",
       "      <td>-0.027779</td>\n",
       "      <td>0.025445</td>\n",
       "      <td>0.027071</td>\n",
       "      <td>-0.024946</td>\n",
       "    </tr>\n",
       "    <tr>\n",
       "      <th>ind_dip</th>\n",
       "      <td>1.000000</td>\n",
       "      <td>1.000000</td>\n",
       "      <td>-0.027779</td>\n",
       "      <td>0.025445</td>\n",
       "      <td>0.027071</td>\n",
       "      <td>-0.024946</td>\n",
       "    </tr>\n",
       "    <tr>\n",
       "      <th>branch_length</th>\n",
       "      <td>-0.027779</td>\n",
       "      <td>-0.027779</td>\n",
       "      <td>1.000000</td>\n",
       "      <td>-0.000457</td>\n",
       "      <td>0.025378</td>\n",
       "      <td>0.007188</td>\n",
       "    </tr>\n",
       "    <tr>\n",
       "      <th>cl1</th>\n",
       "      <td>0.025445</td>\n",
       "      <td>0.025445</td>\n",
       "      <td>-0.000457</td>\n",
       "      <td>1.000000</td>\n",
       "      <td>0.387924</td>\n",
       "      <td>-0.374806</td>\n",
       "    </tr>\n",
       "    <tr>\n",
       "      <th>cl2</th>\n",
       "      <td>0.027071</td>\n",
       "      <td>0.027071</td>\n",
       "      <td>0.025378</td>\n",
       "      <td>0.387924</td>\n",
       "      <td>1.000000</td>\n",
       "      <td>-0.883627</td>\n",
       "    </tr>\n",
       "    <tr>\n",
       "      <th>dist</th>\n",
       "      <td>-0.024946</td>\n",
       "      <td>-0.024946</td>\n",
       "      <td>0.007188</td>\n",
       "      <td>-0.374806</td>\n",
       "      <td>-0.883627</td>\n",
       "      <td>1.000000</td>\n",
       "    </tr>\n",
       "  </tbody>\n",
       "</table>\n",
       "</div>"
      ],
      "text/plain": [
       "                  index   ind_dip  branch_length       cl1       cl2      dist\n",
       "index          1.000000  1.000000      -0.027779  0.025445  0.027071 -0.024946\n",
       "ind_dip        1.000000  1.000000      -0.027779  0.025445  0.027071 -0.024946\n",
       "branch_length -0.027779 -0.027779       1.000000 -0.000457  0.025378  0.007188\n",
       "cl1            0.025445  0.025445      -0.000457  1.000000  0.387924 -0.374806\n",
       "cl2            0.027071  0.027071       0.025378  0.387924  1.000000 -0.883627\n",
       "dist          -0.024946 -0.024946       0.007188 -0.374806 -0.883627  1.000000"
      ]
     },
     "execution_count": 1058,
     "metadata": {},
     "output_type": "execute_result"
    }
   ],
   "source": [
    "# df_c_agg.corr(method='spearman')\n",
    "df_c_agg.corr(method='spearman')"
   ]
  },
  {
   "cell_type": "markdown",
   "metadata": {},
   "source": [
    "### Calculate total proportion of inter-singleton distances that occur below MNM threshold"
   ]
  },
  {
   "cell_type": "code",
   "execution_count": 313,
   "metadata": {},
   "outputs": [
    {
     "data": {
      "text/plain": [
       "795907"
      ]
     },
     "execution_count": 313,
     "metadata": {},
     "output_type": "execute_result"
    }
   ],
   "source": [
    "len(list(tree.sites()))"
   ]
  },
  {
   "cell_type": "code",
   "execution_count": 1068,
   "metadata": {},
   "outputs": [
    {
     "data": {
      "text/plain": [
       "0.0005257486595221328"
      ]
     },
     "execution_count": 1068,
     "metadata": {},
     "output_type": "execute_result"
    }
   ],
   "source": [
    "# & (df_c['branch_length']<20)\n",
    "cluster_fps = len(df_c[(df_c['cl1']==True)])\n",
    "tot_singletons = len(df_c)\n",
    "cluster_fps_prop = cluster_fps/tot_singletons\n",
    "cluster_fps_prop"
   ]
  },
  {
   "cell_type": "code",
   "execution_count": 542,
   "metadata": {},
   "outputs": [
    {
     "data": {
      "text/plain": [
       "432597"
      ]
     },
     "execution_count": 542,
     "metadata": {},
     "output_type": "execute_result"
    }
   ],
   "source": [
    "tot_singletons"
   ]
  },
  {
   "cell_type": "code",
   "execution_count": 543,
   "metadata": {},
   "outputs": [
    {
     "data": {
      "text/plain": [
       "0.5435270703738"
      ]
     },
     "execution_count": 543,
     "metadata": {},
     "output_type": "execute_result"
    }
   ],
   "source": [
    "tot_singletons/795907"
   ]
  }
 ],
 "metadata": {
  "kernelspec": {
   "display_name": "anaconda",
   "language": "python",
   "name": "anaconda"
  },
  "language_info": {
   "codemirror_mode": {
    "name": "ipython",
    "version": 3
   },
   "file_extension": ".py",
   "mimetype": "text/x-python",
   "name": "python",
   "nbconvert_exporter": "python",
   "pygments_lexer": "ipython3",
   "version": "3.6.8"
  }
 },
 "nbformat": 4,
 "nbformat_minor": 2
}
